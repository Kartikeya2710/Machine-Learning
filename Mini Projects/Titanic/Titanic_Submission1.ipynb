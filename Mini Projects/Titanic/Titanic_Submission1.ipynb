{
 "cells": [
  {
   "cell_type": "markdown",
   "id": "32016b73",
   "metadata": {},
   "source": [
    "### *Import Libraries*"
   ]
  },
  {
   "cell_type": "code",
   "execution_count": 1,
   "id": "ef39087d",
   "metadata": {},
   "outputs": [],
   "source": [
    "import pandas as pd\n",
    "from sklearn.model_selection import train_test_split\n",
    "from sklearn import preprocessing\n",
    "from sklearn.linear_model import LogisticRegression\n",
    "import matplotlib.pyplot as plt\n",
    "import seaborn as sns\n",
    "import numpy as np\n",
    "import sys"
   ]
  },
  {
   "cell_type": "markdown",
   "id": "d0ebd67a",
   "metadata": {},
   "source": [
    "### *Reading the files*"
   ]
  },
  {
   "cell_type": "code",
   "execution_count": 2,
   "id": "d8299527",
   "metadata": {},
   "outputs": [],
   "source": [
    "train_data = pd.read_csv(\"Data/train.csv\", index_col = None).drop(\"PassengerId\", axis=1)\n",
    "test_data = pd.read_csv(\"Data/test.csv\", index_col = None).drop(\"PassengerId\", axis=1)\n",
    "gender_submission = pd.read_csv(\"Data/gender_submission.csv\", index_col=None)"
   ]
  },
  {
   "cell_type": "code",
   "execution_count": 3,
   "id": "86a52703",
   "metadata": {},
   "outputs": [
    {
     "data": {
      "text/html": [
       "<div>\n",
       "<style scoped>\n",
       "    .dataframe tbody tr th:only-of-type {\n",
       "        vertical-align: middle;\n",
       "    }\n",
       "\n",
       "    .dataframe tbody tr th {\n",
       "        vertical-align: top;\n",
       "    }\n",
       "\n",
       "    .dataframe thead th {\n",
       "        text-align: right;\n",
       "    }\n",
       "</style>\n",
       "<table border=\"1\" class=\"dataframe\">\n",
       "  <thead>\n",
       "    <tr style=\"text-align: right;\">\n",
       "      <th></th>\n",
       "      <th>Survived</th>\n",
       "      <th>Pclass</th>\n",
       "      <th>Name</th>\n",
       "      <th>Sex</th>\n",
       "      <th>Age</th>\n",
       "      <th>SibSp</th>\n",
       "      <th>Parch</th>\n",
       "      <th>Ticket</th>\n",
       "      <th>Fare</th>\n",
       "      <th>Cabin</th>\n",
       "      <th>Embarked</th>\n",
       "    </tr>\n",
       "  </thead>\n",
       "  <tbody>\n",
       "    <tr>\n",
       "      <th>0</th>\n",
       "      <td>0</td>\n",
       "      <td>3</td>\n",
       "      <td>Braund, Mr. Owen Harris</td>\n",
       "      <td>male</td>\n",
       "      <td>22.0</td>\n",
       "      <td>1</td>\n",
       "      <td>0</td>\n",
       "      <td>A/5 21171</td>\n",
       "      <td>7.2500</td>\n",
       "      <td>NaN</td>\n",
       "      <td>S</td>\n",
       "    </tr>\n",
       "    <tr>\n",
       "      <th>1</th>\n",
       "      <td>1</td>\n",
       "      <td>1</td>\n",
       "      <td>Cumings, Mrs. John Bradley (Florence Briggs Th...</td>\n",
       "      <td>female</td>\n",
       "      <td>38.0</td>\n",
       "      <td>1</td>\n",
       "      <td>0</td>\n",
       "      <td>PC 17599</td>\n",
       "      <td>71.2833</td>\n",
       "      <td>C85</td>\n",
       "      <td>C</td>\n",
       "    </tr>\n",
       "    <tr>\n",
       "      <th>2</th>\n",
       "      <td>1</td>\n",
       "      <td>3</td>\n",
       "      <td>Heikkinen, Miss. Laina</td>\n",
       "      <td>female</td>\n",
       "      <td>26.0</td>\n",
       "      <td>0</td>\n",
       "      <td>0</td>\n",
       "      <td>STON/O2. 3101282</td>\n",
       "      <td>7.9250</td>\n",
       "      <td>NaN</td>\n",
       "      <td>S</td>\n",
       "    </tr>\n",
       "    <tr>\n",
       "      <th>3</th>\n",
       "      <td>1</td>\n",
       "      <td>1</td>\n",
       "      <td>Futrelle, Mrs. Jacques Heath (Lily May Peel)</td>\n",
       "      <td>female</td>\n",
       "      <td>35.0</td>\n",
       "      <td>1</td>\n",
       "      <td>0</td>\n",
       "      <td>113803</td>\n",
       "      <td>53.1000</td>\n",
       "      <td>C123</td>\n",
       "      <td>S</td>\n",
       "    </tr>\n",
       "    <tr>\n",
       "      <th>4</th>\n",
       "      <td>0</td>\n",
       "      <td>3</td>\n",
       "      <td>Allen, Mr. William Henry</td>\n",
       "      <td>male</td>\n",
       "      <td>35.0</td>\n",
       "      <td>0</td>\n",
       "      <td>0</td>\n",
       "      <td>373450</td>\n",
       "      <td>8.0500</td>\n",
       "      <td>NaN</td>\n",
       "      <td>S</td>\n",
       "    </tr>\n",
       "  </tbody>\n",
       "</table>\n",
       "</div>"
      ],
      "text/plain": [
       "   Survived  Pclass                                               Name  \\\n",
       "0         0       3                            Braund, Mr. Owen Harris   \n",
       "1         1       1  Cumings, Mrs. John Bradley (Florence Briggs Th...   \n",
       "2         1       3                             Heikkinen, Miss. Laina   \n",
       "3         1       1       Futrelle, Mrs. Jacques Heath (Lily May Peel)   \n",
       "4         0       3                           Allen, Mr. William Henry   \n",
       "\n",
       "      Sex   Age  SibSp  Parch            Ticket     Fare Cabin Embarked  \n",
       "0    male  22.0      1      0         A/5 21171   7.2500   NaN        S  \n",
       "1  female  38.0      1      0          PC 17599  71.2833   C85        C  \n",
       "2  female  26.0      0      0  STON/O2. 3101282   7.9250   NaN        S  \n",
       "3  female  35.0      1      0            113803  53.1000  C123        S  \n",
       "4    male  35.0      0      0            373450   8.0500   NaN        S  "
      ]
     },
     "execution_count": 3,
     "metadata": {},
     "output_type": "execute_result"
    }
   ],
   "source": [
    "train_data.head()"
   ]
  },
  {
   "cell_type": "code",
   "execution_count": 4,
   "id": "36cc7e31",
   "metadata": {
    "scrolled": true
   },
   "outputs": [
    {
     "data": {
      "text/html": [
       "<div>\n",
       "<style scoped>\n",
       "    .dataframe tbody tr th:only-of-type {\n",
       "        vertical-align: middle;\n",
       "    }\n",
       "\n",
       "    .dataframe tbody tr th {\n",
       "        vertical-align: top;\n",
       "    }\n",
       "\n",
       "    .dataframe thead th {\n",
       "        text-align: right;\n",
       "    }\n",
       "</style>\n",
       "<table border=\"1\" class=\"dataframe\">\n",
       "  <thead>\n",
       "    <tr style=\"text-align: right;\">\n",
       "      <th></th>\n",
       "      <th>Pclass</th>\n",
       "      <th>Name</th>\n",
       "      <th>Sex</th>\n",
       "      <th>Age</th>\n",
       "      <th>SibSp</th>\n",
       "      <th>Parch</th>\n",
       "      <th>Ticket</th>\n",
       "      <th>Fare</th>\n",
       "      <th>Cabin</th>\n",
       "      <th>Embarked</th>\n",
       "    </tr>\n",
       "  </thead>\n",
       "  <tbody>\n",
       "    <tr>\n",
       "      <th>0</th>\n",
       "      <td>3</td>\n",
       "      <td>Kelly, Mr. James</td>\n",
       "      <td>male</td>\n",
       "      <td>34.5</td>\n",
       "      <td>0</td>\n",
       "      <td>0</td>\n",
       "      <td>330911</td>\n",
       "      <td>7.8292</td>\n",
       "      <td>NaN</td>\n",
       "      <td>Q</td>\n",
       "    </tr>\n",
       "    <tr>\n",
       "      <th>1</th>\n",
       "      <td>3</td>\n",
       "      <td>Wilkes, Mrs. James (Ellen Needs)</td>\n",
       "      <td>female</td>\n",
       "      <td>47.0</td>\n",
       "      <td>1</td>\n",
       "      <td>0</td>\n",
       "      <td>363272</td>\n",
       "      <td>7.0000</td>\n",
       "      <td>NaN</td>\n",
       "      <td>S</td>\n",
       "    </tr>\n",
       "    <tr>\n",
       "      <th>2</th>\n",
       "      <td>2</td>\n",
       "      <td>Myles, Mr. Thomas Francis</td>\n",
       "      <td>male</td>\n",
       "      <td>62.0</td>\n",
       "      <td>0</td>\n",
       "      <td>0</td>\n",
       "      <td>240276</td>\n",
       "      <td>9.6875</td>\n",
       "      <td>NaN</td>\n",
       "      <td>Q</td>\n",
       "    </tr>\n",
       "    <tr>\n",
       "      <th>3</th>\n",
       "      <td>3</td>\n",
       "      <td>Wirz, Mr. Albert</td>\n",
       "      <td>male</td>\n",
       "      <td>27.0</td>\n",
       "      <td>0</td>\n",
       "      <td>0</td>\n",
       "      <td>315154</td>\n",
       "      <td>8.6625</td>\n",
       "      <td>NaN</td>\n",
       "      <td>S</td>\n",
       "    </tr>\n",
       "    <tr>\n",
       "      <th>4</th>\n",
       "      <td>3</td>\n",
       "      <td>Hirvonen, Mrs. Alexander (Helga E Lindqvist)</td>\n",
       "      <td>female</td>\n",
       "      <td>22.0</td>\n",
       "      <td>1</td>\n",
       "      <td>1</td>\n",
       "      <td>3101298</td>\n",
       "      <td>12.2875</td>\n",
       "      <td>NaN</td>\n",
       "      <td>S</td>\n",
       "    </tr>\n",
       "  </tbody>\n",
       "</table>\n",
       "</div>"
      ],
      "text/plain": [
       "   Pclass                                          Name     Sex   Age  SibSp  \\\n",
       "0       3                              Kelly, Mr. James    male  34.5      0   \n",
       "1       3              Wilkes, Mrs. James (Ellen Needs)  female  47.0      1   \n",
       "2       2                     Myles, Mr. Thomas Francis    male  62.0      0   \n",
       "3       3                              Wirz, Mr. Albert    male  27.0      0   \n",
       "4       3  Hirvonen, Mrs. Alexander (Helga E Lindqvist)  female  22.0      1   \n",
       "\n",
       "   Parch   Ticket     Fare Cabin Embarked  \n",
       "0      0   330911   7.8292   NaN        Q  \n",
       "1      0   363272   7.0000   NaN        S  \n",
       "2      0   240276   9.6875   NaN        Q  \n",
       "3      0   315154   8.6625   NaN        S  \n",
       "4      1  3101298  12.2875   NaN        S  "
      ]
     },
     "execution_count": 4,
     "metadata": {},
     "output_type": "execute_result"
    }
   ],
   "source": [
    "test_data.head()"
   ]
  },
  {
   "cell_type": "code",
   "execution_count": 5,
   "id": "b5bfc4ca",
   "metadata": {
    "scrolled": true
   },
   "outputs": [
    {
     "data": {
      "text/html": [
       "<div>\n",
       "<style scoped>\n",
       "    .dataframe tbody tr th:only-of-type {\n",
       "        vertical-align: middle;\n",
       "    }\n",
       "\n",
       "    .dataframe tbody tr th {\n",
       "        vertical-align: top;\n",
       "    }\n",
       "\n",
       "    .dataframe thead th {\n",
       "        text-align: right;\n",
       "    }\n",
       "</style>\n",
       "<table border=\"1\" class=\"dataframe\">\n",
       "  <thead>\n",
       "    <tr style=\"text-align: right;\">\n",
       "      <th></th>\n",
       "      <th>PassengerId</th>\n",
       "      <th>Survived</th>\n",
       "    </tr>\n",
       "  </thead>\n",
       "  <tbody>\n",
       "    <tr>\n",
       "      <th>0</th>\n",
       "      <td>892</td>\n",
       "      <td>0</td>\n",
       "    </tr>\n",
       "    <tr>\n",
       "      <th>1</th>\n",
       "      <td>893</td>\n",
       "      <td>1</td>\n",
       "    </tr>\n",
       "    <tr>\n",
       "      <th>2</th>\n",
       "      <td>894</td>\n",
       "      <td>0</td>\n",
       "    </tr>\n",
       "    <tr>\n",
       "      <th>3</th>\n",
       "      <td>895</td>\n",
       "      <td>0</td>\n",
       "    </tr>\n",
       "    <tr>\n",
       "      <th>4</th>\n",
       "      <td>896</td>\n",
       "      <td>1</td>\n",
       "    </tr>\n",
       "  </tbody>\n",
       "</table>\n",
       "</div>"
      ],
      "text/plain": [
       "   PassengerId  Survived\n",
       "0          892         0\n",
       "1          893         1\n",
       "2          894         0\n",
       "3          895         0\n",
       "4          896         1"
      ]
     },
     "execution_count": 5,
     "metadata": {},
     "output_type": "execute_result"
    }
   ],
   "source": [
    "gender_submission.head()"
   ]
  },
  {
   "cell_type": "markdown",
   "id": "47e68c5c",
   "metadata": {},
   "source": [
    "#### **New Thing Learnt. For my reference**"
   ]
  },
  {
   "cell_type": "code",
   "execution_count": 6,
   "id": "b4ba0faf",
   "metadata": {},
   "outputs": [],
   "source": [
    "# Getting the entire data for cleaning up and wrangling\n",
    "full_data = [train_data, test_data]"
   ]
  },
  {
   "cell_type": "markdown",
   "id": "6657c7cd",
   "metadata": {},
   "source": [
    "### *Removing columns that do not provide any useful information.*"
   ]
  },
  {
   "cell_type": "code",
   "execution_count": 7,
   "id": "28a3646a",
   "metadata": {},
   "outputs": [],
   "source": [
    "new_columns = ['Pclass', 'Sex', 'Age', 'SibSp', 'Parch', 'Embarked', 'Fare', 'Survived']\n",
    "for data in full_data:\n",
    "    data.drop(['Name', 'Ticket', 'Cabin'], axis=1, inplace=True)\n",
    "train_data = train_data.reindex(columns=new_columns)\n",
    "test_data = test_data.reindex(columns=new_columns.remove('Survived'))"
   ]
  },
  {
   "cell_type": "code",
   "execution_count": 8,
   "id": "29033ae4",
   "metadata": {},
   "outputs": [
    {
     "data": {
      "text/html": [
       "<div>\n",
       "<style scoped>\n",
       "    .dataframe tbody tr th:only-of-type {\n",
       "        vertical-align: middle;\n",
       "    }\n",
       "\n",
       "    .dataframe tbody tr th {\n",
       "        vertical-align: top;\n",
       "    }\n",
       "\n",
       "    .dataframe thead th {\n",
       "        text-align: right;\n",
       "    }\n",
       "</style>\n",
       "<table border=\"1\" class=\"dataframe\">\n",
       "  <thead>\n",
       "    <tr style=\"text-align: right;\">\n",
       "      <th></th>\n",
       "      <th>Pclass</th>\n",
       "      <th>Sex</th>\n",
       "      <th>Age</th>\n",
       "      <th>SibSp</th>\n",
       "      <th>Parch</th>\n",
       "      <th>Embarked</th>\n",
       "      <th>Fare</th>\n",
       "      <th>Survived</th>\n",
       "    </tr>\n",
       "  </thead>\n",
       "  <tbody>\n",
       "    <tr>\n",
       "      <th>0</th>\n",
       "      <td>3</td>\n",
       "      <td>male</td>\n",
       "      <td>22.0</td>\n",
       "      <td>1</td>\n",
       "      <td>0</td>\n",
       "      <td>S</td>\n",
       "      <td>7.2500</td>\n",
       "      <td>0</td>\n",
       "    </tr>\n",
       "    <tr>\n",
       "      <th>1</th>\n",
       "      <td>1</td>\n",
       "      <td>female</td>\n",
       "      <td>38.0</td>\n",
       "      <td>1</td>\n",
       "      <td>0</td>\n",
       "      <td>C</td>\n",
       "      <td>71.2833</td>\n",
       "      <td>1</td>\n",
       "    </tr>\n",
       "    <tr>\n",
       "      <th>2</th>\n",
       "      <td>3</td>\n",
       "      <td>female</td>\n",
       "      <td>26.0</td>\n",
       "      <td>0</td>\n",
       "      <td>0</td>\n",
       "      <td>S</td>\n",
       "      <td>7.9250</td>\n",
       "      <td>1</td>\n",
       "    </tr>\n",
       "    <tr>\n",
       "      <th>3</th>\n",
       "      <td>1</td>\n",
       "      <td>female</td>\n",
       "      <td>35.0</td>\n",
       "      <td>1</td>\n",
       "      <td>0</td>\n",
       "      <td>S</td>\n",
       "      <td>53.1000</td>\n",
       "      <td>1</td>\n",
       "    </tr>\n",
       "    <tr>\n",
       "      <th>4</th>\n",
       "      <td>3</td>\n",
       "      <td>male</td>\n",
       "      <td>35.0</td>\n",
       "      <td>0</td>\n",
       "      <td>0</td>\n",
       "      <td>S</td>\n",
       "      <td>8.0500</td>\n",
       "      <td>0</td>\n",
       "    </tr>\n",
       "  </tbody>\n",
       "</table>\n",
       "</div>"
      ],
      "text/plain": [
       "   Pclass     Sex   Age  SibSp  Parch Embarked     Fare  Survived\n",
       "0       3    male  22.0      1      0        S   7.2500         0\n",
       "1       1  female  38.0      1      0        C  71.2833         1\n",
       "2       3  female  26.0      0      0        S   7.9250         1\n",
       "3       1  female  35.0      1      0        S  53.1000         1\n",
       "4       3    male  35.0      0      0        S   8.0500         0"
      ]
     },
     "execution_count": 8,
     "metadata": {},
     "output_type": "execute_result"
    }
   ],
   "source": [
    "train_data.head()"
   ]
  },
  {
   "cell_type": "code",
   "execution_count": 9,
   "id": "114eda54",
   "metadata": {},
   "outputs": [
    {
     "data": {
      "text/html": [
       "<div>\n",
       "<style scoped>\n",
       "    .dataframe tbody tr th:only-of-type {\n",
       "        vertical-align: middle;\n",
       "    }\n",
       "\n",
       "    .dataframe tbody tr th {\n",
       "        vertical-align: top;\n",
       "    }\n",
       "\n",
       "    .dataframe thead th {\n",
       "        text-align: right;\n",
       "    }\n",
       "</style>\n",
       "<table border=\"1\" class=\"dataframe\">\n",
       "  <thead>\n",
       "    <tr style=\"text-align: right;\">\n",
       "      <th></th>\n",
       "      <th>Pclass</th>\n",
       "      <th>Sex</th>\n",
       "      <th>Age</th>\n",
       "      <th>SibSp</th>\n",
       "      <th>Parch</th>\n",
       "      <th>Fare</th>\n",
       "      <th>Embarked</th>\n",
       "    </tr>\n",
       "  </thead>\n",
       "  <tbody>\n",
       "    <tr>\n",
       "      <th>0</th>\n",
       "      <td>3</td>\n",
       "      <td>male</td>\n",
       "      <td>34.5</td>\n",
       "      <td>0</td>\n",
       "      <td>0</td>\n",
       "      <td>7.8292</td>\n",
       "      <td>Q</td>\n",
       "    </tr>\n",
       "    <tr>\n",
       "      <th>1</th>\n",
       "      <td>3</td>\n",
       "      <td>female</td>\n",
       "      <td>47.0</td>\n",
       "      <td>1</td>\n",
       "      <td>0</td>\n",
       "      <td>7.0000</td>\n",
       "      <td>S</td>\n",
       "    </tr>\n",
       "    <tr>\n",
       "      <th>2</th>\n",
       "      <td>2</td>\n",
       "      <td>male</td>\n",
       "      <td>62.0</td>\n",
       "      <td>0</td>\n",
       "      <td>0</td>\n",
       "      <td>9.6875</td>\n",
       "      <td>Q</td>\n",
       "    </tr>\n",
       "    <tr>\n",
       "      <th>3</th>\n",
       "      <td>3</td>\n",
       "      <td>male</td>\n",
       "      <td>27.0</td>\n",
       "      <td>0</td>\n",
       "      <td>0</td>\n",
       "      <td>8.6625</td>\n",
       "      <td>S</td>\n",
       "    </tr>\n",
       "    <tr>\n",
       "      <th>4</th>\n",
       "      <td>3</td>\n",
       "      <td>female</td>\n",
       "      <td>22.0</td>\n",
       "      <td>1</td>\n",
       "      <td>1</td>\n",
       "      <td>12.2875</td>\n",
       "      <td>S</td>\n",
       "    </tr>\n",
       "  </tbody>\n",
       "</table>\n",
       "</div>"
      ],
      "text/plain": [
       "   Pclass     Sex   Age  SibSp  Parch     Fare Embarked\n",
       "0       3    male  34.5      0      0   7.8292        Q\n",
       "1       3  female  47.0      1      0   7.0000        S\n",
       "2       2    male  62.0      0      0   9.6875        Q\n",
       "3       3    male  27.0      0      0   8.6625        S\n",
       "4       3  female  22.0      1      1  12.2875        S"
      ]
     },
     "execution_count": 9,
     "metadata": {},
     "output_type": "execute_result"
    }
   ],
   "source": [
    "test_data.head()"
   ]
  },
  {
   "cell_type": "code",
   "execution_count": 10,
   "id": "d6282041",
   "metadata": {},
   "outputs": [
    {
     "name": "stdout",
     "output_type": "stream",
     "text": [
      "Survived      0\n",
      "Pclass        0\n",
      "Sex           0\n",
      "Age         177\n",
      "SibSp         0\n",
      "Parch         0\n",
      "Fare          0\n",
      "Embarked      2\n",
      "dtype: int64 \n",
      "\n",
      "\n",
      "Pclass       0\n",
      "Sex          0\n",
      "Age         86\n",
      "SibSp        0\n",
      "Parch        0\n",
      "Fare         1\n",
      "Embarked     0\n",
      "dtype: int64 \n",
      "\n",
      "\n"
     ]
    }
   ],
   "source": [
    "for data in full_data:\n",
    "    print(data.isnull().sum(), \"\\n\\n\")"
   ]
  },
  {
   "cell_type": "markdown",
   "id": "f2aee9dd",
   "metadata": {},
   "source": [
    "**I was having problem dealing with the Age column because if I completely remove it, I might miss on some useful data and if I just take the median or average of all the non-null ages, then I don't think the calculated age would of a lot of importance because it will be of course inaccurate. So I decided to check on some codes on Kaggle.**"
   ]
  },
  {
   "cell_type": "markdown",
   "id": "1fbca5aa",
   "metadata": {},
   "source": [
    "**For dealing with Age I will try finding the mean and std. Then I will take random values in this range and use them as the Age value for each missing value.**"
   ]
  },
  {
   "cell_type": "markdown",
   "id": "9c926c3f",
   "metadata": {},
   "source": [
    "### New thing learnt"
   ]
  },
  {
   "cell_type": "markdown",
   "id": "e81f41e7",
   "metadata": {},
   "source": [
    "### *Replacing the NaN age values with random numbers between   mean-std   and      mean+std*"
   ]
  },
  {
   "cell_type": "code",
   "execution_count": 11,
   "id": "d8f396ad",
   "metadata": {},
   "outputs": [
    {
     "name": "stderr",
     "output_type": "stream",
     "text": [
      "c:\\python39\\lib\\site-packages\\pandas\\core\\indexing.py:1637: SettingWithCopyWarning: \n",
      "A value is trying to be set on a copy of a slice from a DataFrame\n",
      "\n",
      "See the caveats in the documentation: https://pandas.pydata.org/pandas-docs/stable/user_guide/indexing.html#returning-a-view-versus-a-copy\n",
      "  self._setitem_single_block(indexer, value, name)\n"
     ]
    }
   ],
   "source": [
    "mean_age_train = np.nanmean(train_data[\"Age\"])\n",
    "std_in_age_train= np.nanstd(train_data[\"Age\"])\n",
    "number_null_train = train_data[\"Age\"].isna().sum()\n",
    "rand_ages_train = np.random.randint(low=mean_age_train-std_in_age_train, high=mean_age_train+std_in_age_train, size=number_null_train)\n",
    "age_slice_train = train_data.loc[:, \"Age\"]\n",
    "age_slice_train.loc[age_slice_train.isna()] = rand_ages_train"
   ]
  },
  {
   "cell_type": "code",
   "execution_count": 12,
   "id": "2345f956",
   "metadata": {},
   "outputs": [],
   "source": [
    "mean_age_test = np.nanmean(test_data[\"Age\"])\n",
    "std_of_age_test = np.nanstd(test_data[\"Age\"])\n",
    "number_null_test = test_data[\"Age\"].isna().sum()\n",
    "rand_ages_test = np.random.randint(mean_age_test-std_of_age_test, mean_age_test+std_of_age_test, size=number_null_test)\n",
    "age_slice_test = test_data.loc[:, \"Age\"]\n",
    "age_slice_test.loc[age_slice_test.isna()] = rand_ages_test"
   ]
  },
  {
   "cell_type": "code",
   "execution_count": 13,
   "id": "63599dd2",
   "metadata": {
    "scrolled": true
   },
   "outputs": [
    {
     "name": "stdout",
     "output_type": "stream",
     "text": [
      "For training data:\n",
      " Pclass      0\n",
      "Sex         0\n",
      "Age         0\n",
      "SibSp       0\n",
      "Parch       0\n",
      "Embarked    2\n",
      "Fare        0\n",
      "Survived    0\n",
      "dtype: int64\n",
      "\n",
      "\n",
      "For testing data:\n",
      " Pclass      0\n",
      "Sex         0\n",
      "Age         0\n",
      "SibSp       0\n",
      "Parch       0\n",
      "Fare        1\n",
      "Embarked    0\n",
      "dtype: int64\n"
     ]
    }
   ],
   "source": [
    "print(\"For training data:\\n\", train_data.isnull().sum())\n",
    "print(\"\\n\\nFor testing data:\\n\", test_data.isnull().sum())"
   ]
  },
  {
   "cell_type": "markdown",
   "id": "efe1f2ae",
   "metadata": {},
   "source": [
    "### *Using 0 and 1 for Sex column*"
   ]
  },
  {
   "cell_type": "code",
   "execution_count": 14,
   "id": "f95d836c",
   "metadata": {},
   "outputs": [],
   "source": [
    "sex_slice_train = train_data.loc[:, \"Sex\"]\n",
    "sex_slice_train.replace([\"female\", \"male\"], [0, 1], inplace=True)\n",
    "\n",
    "sex_slice_test = test_data.loc[:, \"Sex\"]\n",
    "sex_slice_test.replace([\"male\", \"female\"], [1, 0], inplace=True)"
   ]
  },
  {
   "cell_type": "markdown",
   "id": "307328d6",
   "metadata": {},
   "source": [
    "# "
   ]
  },
  {
   "cell_type": "markdown",
   "id": "09ffff16",
   "metadata": {},
   "source": [
    "### *Dealing with the Embarked column using one-hot encoding*"
   ]
  },
  {
   "cell_type": "markdown",
   "id": "5f7506b2",
   "metadata": {},
   "source": [
    " I first get the dummy DataFrame for the Embarked column which contains three columns, one for each category (C, Q, S). Each column is a binary column showing whether the person boarded from that place or not. So for a particular example if we have:\n",
    "\n",
    "#### C Q S\n",
    " 0 1 0\n",
    " \n",
    "This means the person boarded from Queenstown and so on...\n",
    "Now under One-hot encoding and even logically, we don't need all the three columns for knowing, from where did the person got on the ship. We can get the same info with 2 columns as well. So, \n",
    "\n",
    "#### C Q\n",
    "0 1\n",
    "\n",
    "also means that the person embarked on the ship from Queenstown"
   ]
  },
  {
   "cell_type": "markdown",
   "id": "1dc6fb27",
   "metadata": {},
   "source": [
    "# "
   ]
  },
  {
   "cell_type": "code",
   "execution_count": 15,
   "id": "a0dbc5b9",
   "metadata": {},
   "outputs": [],
   "source": [
    "dummy_emb_train = pd.get_dummies(train_data[\"Embarked\"]).iloc[:, :2]\n",
    "dummy_emb_test = pd.get_dummies(test_data[\"Embarked\"]).iloc[:, :2]"
   ]
  },
  {
   "cell_type": "markdown",
   "id": "482d2505",
   "metadata": {},
   "source": [
    "#### Combining the new dummy columns with the original DataFrames"
   ]
  },
  {
   "cell_type": "code",
   "execution_count": 16,
   "id": "ba65144a",
   "metadata": {},
   "outputs": [],
   "source": [
    "merged_train_data = pd.concat([train_data, dummy_emb_train], axis=1)\n",
    "merged_test_data = pd.concat([test_data, dummy_emb_test], axis=1)"
   ]
  },
  {
   "cell_type": "markdown",
   "id": "b43df16f",
   "metadata": {},
   "source": [
    "#### Removing the Embarked column as it is not needed anymore"
   ]
  },
  {
   "cell_type": "code",
   "execution_count": 17,
   "id": "1b08449e",
   "metadata": {},
   "outputs": [],
   "source": [
    "merged_train_data.drop('Embarked', axis=1, inplace=True)\n",
    "merged_test_data.drop(\"Embarked\", axis=1, inplace=True)"
   ]
  },
  {
   "cell_type": "markdown",
   "id": "8d366363",
   "metadata": {},
   "source": [
    "#### Rearranging the columns for ease of use"
   ]
  },
  {
   "cell_type": "code",
   "execution_count": 18,
   "id": "37ca4129",
   "metadata": {},
   "outputs": [],
   "source": [
    "merged_train_data.columns = ['Pclass', 'Sex', 'Age', 'SibSp', 'Parch', 'Fare', 'Survived', 'Chebourg', 'Queenstown']\n",
    "train_cols = ['Pclass', 'Sex', 'Age', 'SibSp', 'Parch', 'Fare', 'Chebourg', 'Queenstown', 'Survived']\n",
    "merged_train_data = merged_train_data.reindex(columns=train_cols)\n",
    "train_data = merged_train_data.loc[:]"
   ]
  },
  {
   "cell_type": "code",
   "execution_count": 19,
   "id": "3b516847",
   "metadata": {},
   "outputs": [],
   "source": [
    "merged_test_data.columns = ['Pclass', 'Sex', 'Age', 'SibSp', 'Parch', 'Fare', 'Chebourg', 'Queenstown']\n",
    "test_data = merged_test_data.loc[:]"
   ]
  },
  {
   "cell_type": "code",
   "execution_count": 20,
   "id": "da72ce40",
   "metadata": {},
   "outputs": [
    {
     "data": {
      "text/html": [
       "<div>\n",
       "<style scoped>\n",
       "    .dataframe tbody tr th:only-of-type {\n",
       "        vertical-align: middle;\n",
       "    }\n",
       "\n",
       "    .dataframe tbody tr th {\n",
       "        vertical-align: top;\n",
       "    }\n",
       "\n",
       "    .dataframe thead th {\n",
       "        text-align: right;\n",
       "    }\n",
       "</style>\n",
       "<table border=\"1\" class=\"dataframe\">\n",
       "  <thead>\n",
       "    <tr style=\"text-align: right;\">\n",
       "      <th></th>\n",
       "      <th>Pclass</th>\n",
       "      <th>Sex</th>\n",
       "      <th>Age</th>\n",
       "      <th>SibSp</th>\n",
       "      <th>Parch</th>\n",
       "      <th>Fare</th>\n",
       "      <th>Chebourg</th>\n",
       "      <th>Queenstown</th>\n",
       "      <th>Survived</th>\n",
       "    </tr>\n",
       "  </thead>\n",
       "  <tbody>\n",
       "    <tr>\n",
       "      <th>0</th>\n",
       "      <td>3</td>\n",
       "      <td>1</td>\n",
       "      <td>22.0</td>\n",
       "      <td>1</td>\n",
       "      <td>0</td>\n",
       "      <td>7.2500</td>\n",
       "      <td>0</td>\n",
       "      <td>0</td>\n",
       "      <td>0</td>\n",
       "    </tr>\n",
       "    <tr>\n",
       "      <th>1</th>\n",
       "      <td>1</td>\n",
       "      <td>0</td>\n",
       "      <td>38.0</td>\n",
       "      <td>1</td>\n",
       "      <td>0</td>\n",
       "      <td>71.2833</td>\n",
       "      <td>1</td>\n",
       "      <td>0</td>\n",
       "      <td>1</td>\n",
       "    </tr>\n",
       "    <tr>\n",
       "      <th>2</th>\n",
       "      <td>3</td>\n",
       "      <td>0</td>\n",
       "      <td>26.0</td>\n",
       "      <td>0</td>\n",
       "      <td>0</td>\n",
       "      <td>7.9250</td>\n",
       "      <td>0</td>\n",
       "      <td>0</td>\n",
       "      <td>1</td>\n",
       "    </tr>\n",
       "    <tr>\n",
       "      <th>3</th>\n",
       "      <td>1</td>\n",
       "      <td>0</td>\n",
       "      <td>35.0</td>\n",
       "      <td>1</td>\n",
       "      <td>0</td>\n",
       "      <td>53.1000</td>\n",
       "      <td>0</td>\n",
       "      <td>0</td>\n",
       "      <td>1</td>\n",
       "    </tr>\n",
       "    <tr>\n",
       "      <th>4</th>\n",
       "      <td>3</td>\n",
       "      <td>1</td>\n",
       "      <td>35.0</td>\n",
       "      <td>0</td>\n",
       "      <td>0</td>\n",
       "      <td>8.0500</td>\n",
       "      <td>0</td>\n",
       "      <td>0</td>\n",
       "      <td>0</td>\n",
       "    </tr>\n",
       "  </tbody>\n",
       "</table>\n",
       "</div>"
      ],
      "text/plain": [
       "   Pclass  Sex   Age  SibSp  Parch     Fare  Chebourg  Queenstown  Survived\n",
       "0       3    1  22.0      1      0   7.2500         0           0         0\n",
       "1       1    0  38.0      1      0  71.2833         1           0         1\n",
       "2       3    0  26.0      0      0   7.9250         0           0         1\n",
       "3       1    0  35.0      1      0  53.1000         0           0         1\n",
       "4       3    1  35.0      0      0   8.0500         0           0         0"
      ]
     },
     "execution_count": 20,
     "metadata": {},
     "output_type": "execute_result"
    }
   ],
   "source": [
    "train_data.head()"
   ]
  },
  {
   "cell_type": "code",
   "execution_count": 21,
   "id": "662227b4",
   "metadata": {
    "scrolled": true
   },
   "outputs": [
    {
     "data": {
      "text/html": [
       "<div>\n",
       "<style scoped>\n",
       "    .dataframe tbody tr th:only-of-type {\n",
       "        vertical-align: middle;\n",
       "    }\n",
       "\n",
       "    .dataframe tbody tr th {\n",
       "        vertical-align: top;\n",
       "    }\n",
       "\n",
       "    .dataframe thead th {\n",
       "        text-align: right;\n",
       "    }\n",
       "</style>\n",
       "<table border=\"1\" class=\"dataframe\">\n",
       "  <thead>\n",
       "    <tr style=\"text-align: right;\">\n",
       "      <th></th>\n",
       "      <th>Pclass</th>\n",
       "      <th>Sex</th>\n",
       "      <th>Age</th>\n",
       "      <th>SibSp</th>\n",
       "      <th>Parch</th>\n",
       "      <th>Fare</th>\n",
       "      <th>Chebourg</th>\n",
       "      <th>Queenstown</th>\n",
       "    </tr>\n",
       "  </thead>\n",
       "  <tbody>\n",
       "    <tr>\n",
       "      <th>0</th>\n",
       "      <td>3</td>\n",
       "      <td>1</td>\n",
       "      <td>34.5</td>\n",
       "      <td>0</td>\n",
       "      <td>0</td>\n",
       "      <td>7.8292</td>\n",
       "      <td>0</td>\n",
       "      <td>1</td>\n",
       "    </tr>\n",
       "    <tr>\n",
       "      <th>1</th>\n",
       "      <td>3</td>\n",
       "      <td>0</td>\n",
       "      <td>47.0</td>\n",
       "      <td>1</td>\n",
       "      <td>0</td>\n",
       "      <td>7.0000</td>\n",
       "      <td>0</td>\n",
       "      <td>0</td>\n",
       "    </tr>\n",
       "    <tr>\n",
       "      <th>2</th>\n",
       "      <td>2</td>\n",
       "      <td>1</td>\n",
       "      <td>62.0</td>\n",
       "      <td>0</td>\n",
       "      <td>0</td>\n",
       "      <td>9.6875</td>\n",
       "      <td>0</td>\n",
       "      <td>1</td>\n",
       "    </tr>\n",
       "    <tr>\n",
       "      <th>3</th>\n",
       "      <td>3</td>\n",
       "      <td>1</td>\n",
       "      <td>27.0</td>\n",
       "      <td>0</td>\n",
       "      <td>0</td>\n",
       "      <td>8.6625</td>\n",
       "      <td>0</td>\n",
       "      <td>0</td>\n",
       "    </tr>\n",
       "    <tr>\n",
       "      <th>4</th>\n",
       "      <td>3</td>\n",
       "      <td>0</td>\n",
       "      <td>22.0</td>\n",
       "      <td>1</td>\n",
       "      <td>1</td>\n",
       "      <td>12.2875</td>\n",
       "      <td>0</td>\n",
       "      <td>0</td>\n",
       "    </tr>\n",
       "  </tbody>\n",
       "</table>\n",
       "</div>"
      ],
      "text/plain": [
       "   Pclass  Sex   Age  SibSp  Parch     Fare  Chebourg  Queenstown\n",
       "0       3    1  34.5      0      0   7.8292         0           1\n",
       "1       3    0  47.0      1      0   7.0000         0           0\n",
       "2       2    1  62.0      0      0   9.6875         0           1\n",
       "3       3    1  27.0      0      0   8.6625         0           0\n",
       "4       3    0  22.0      1      1  12.2875         0           0"
      ]
     },
     "execution_count": 21,
     "metadata": {},
     "output_type": "execute_result"
    }
   ],
   "source": [
    "test_data.head()"
   ]
  },
  {
   "cell_type": "markdown",
   "id": "6595df84",
   "metadata": {},
   "source": [
    "### Separating and analyzing the data based on sex"
   ]
  },
  {
   "cell_type": "code",
   "execution_count": 22,
   "id": "cd73aa57",
   "metadata": {},
   "outputs": [
    {
     "data": {
      "text/plain": [
       "[Text(0, 0, 'No'), Text(1, 0, 'Yes')]"
      ]
     },
     "execution_count": 22,
     "metadata": {},
     "output_type": "execute_result"
    },
    {
     "data": {
      "image/png": "[encoded data removed]",
      "text/plain": [
       "<Figure size 432x288 with 1 Axes>"
      ]
     },
     "metadata": {
      "needs_background": "light"
     },
     "output_type": "display_data"
    }
   ],
   "source": [
    "gender_surv_plt = sns.countplot(data=train_data, x=\"Survived\", hue=\"Sex\", palette=\"magma\")\n",
    "gender_surv_plt.legend([\"Female\", \"Male\"], title=\"Sex\")\n",
    "gender_surv_plt.set_xticklabels([\"No\", \"Yes\"])"
   ]
  },
  {
   "cell_type": "code",
   "execution_count": 23,
   "id": "edbf617e",
   "metadata": {},
   "outputs": [
    {
     "name": "stdout",
     "output_type": "stream",
     "text": [
      "Total number of females who were travelling:  314\n",
      "Percentage of females who survived:  74.2038 %\n",
      "Total number of males who were travelling:  577\n",
      "Percentage of males who survived:  18.8908 %\n",
      "\n",
      "Clearly, even though a lot more males were travelling, a greater number(and percentage) of females were saved/rescued as compared to males.\n"
     ]
    }
   ],
   "source": [
    "# For females\n",
    "female_data = train_data[train_data[\"Sex\"]==0]\n",
    "surv_pct_females = female_data[\"Survived\"].loc[female_data[\"Survived\"] == 1].sum()*100 / len(female_data)\n",
    "print(\"Total number of females who were travelling: \", len(female_data))\n",
    "print(\"Percentage of females who survived: \", surv_pct_females.round(4),\"%\")\n",
    "\n",
    "# For males\n",
    "male_data = train_data[train_data[\"Sex\"]==1]\n",
    "surv_pct_males = male_data[\"Survived\"].loc[male_data[\"Survived\"] == 1].sum()*100 / len(male_data)\n",
    "print(\"Total number of males who were travelling: \", len(male_data))\n",
    "print(\"Percentage of males who survived: \", surv_pct_males.round(4), \"%\")\n",
    "\n",
    "print(\"\\nClearly, even though a lot more males were travelling, a greater number(and percentage) of females were saved/rescued as compared to males.\")"
   ]
  },
  {
   "cell_type": "markdown",
   "id": "62253896",
   "metadata": {},
   "source": [
    "### Analyzing the data on the basis of Passenger Class"
   ]
  },
  {
   "cell_type": "code",
   "execution_count": 24,
   "id": "ad717747",
   "metadata": {},
   "outputs": [
    {
     "data": {
      "text/plain": [
       "[Text(0, 0, 'No'), Text(1, 0, 'Yes')]"
      ]
     },
     "execution_count": 24,
     "metadata": {},
     "output_type": "execute_result"
    },
    {
     "data": {
      "image/png": "[encoded data removed]",
      "text/plain": [
       "<Figure size 432x288 with 1 Axes>"
      ]
     },
     "metadata": {
      "needs_background": "light"
     },
     "output_type": "display_data"
    }
   ],
   "source": [
    "pclass_surv_plt = sns.countplot(data=train_data, x=\"Survived\", hue=\"Pclass\", palette=\"Set2\")\n",
    "pclass_surv_plt.set_xticklabels([\"No\", \"Yes\"])"
   ]
  },
  {
   "cell_type": "code",
   "execution_count": 25,
   "id": "d8858494",
   "metadata": {},
   "outputs": [
    {
     "name": "stdout",
     "output_type": "stream",
     "text": [
      "The plot shows that approximately 40.0673% of the people travelling in 3rd class survived.\n"
     ]
    }
   ],
   "source": [
    "class3_surv_pct = train_data[\"Pclass\"].loc[(train_data[\"Pclass\"]==3) & (train_data[\"Survived\"]==1)].sum() * 100/len(train_data)\n",
    "print(f\"The plot shows that approximately {class3_surv_pct.round(4)}% of the people travelling in 3rd class survived.\".format(class3_surv_pct))"
   ]
  },
  {
   "cell_type": "markdown",
   "id": "9d83c851",
   "metadata": {},
   "source": [
    "### Finding correlations in the data"
   ]
  },
  {
   "cell_type": "code",
   "execution_count": 26,
   "id": "cbccd95b",
   "metadata": {
    "scrolled": true
   },
   "outputs": [
    {
     "name": "stdout",
     "output_type": "stream",
     "text": [
      "There are no linear relationships in the data except a few fundamental ones like Fare and Pclass\n"
     ]
    },
    {
     "data": {
      "image/png": "[encoded data removed]",
      "text/plain": [
       "<Figure size 432x288 with 2 Axes>"
      ]
     },
     "metadata": {
      "needs_background": "light"
     },
     "output_type": "display_data"
    }
   ],
   "source": [
    "sns.heatmap(train_data.corr())\n",
    "train_data.corr()\n",
    "print(\"There are no linear relationships in the data except a few fundamental ones like Fare and Pclass\")"
   ]
  },
  {
   "cell_type": "markdown",
   "id": "d95769fd",
   "metadata": {},
   "source": [
    "#### Preparing the scalar and scaled data"
   ]
  },
  {
   "cell_type": "code",
   "execution_count": 27,
   "id": "a0faeedc",
   "metadata": {},
   "outputs": [],
   "source": [
    "scalar = preprocessing.StandardScaler()\n",
    "scaled_train_data = scalar.fit_transform(train_data.iloc[:,:-1])\n",
    "scaled_test_data = scalar.fit_transform(test_data)"
   ]
  },
  {
   "cell_type": "markdown",
   "id": "4ee1dc9d",
   "metadata": {},
   "source": [
    "#### Preparing the training and testing data for our model"
   ]
  },
  {
   "cell_type": "code",
   "execution_count": 28,
   "id": "73905a7b",
   "metadata": {},
   "outputs": [],
   "source": [
    "X = scaled_train_data\n",
    "y = train_data.iloc[:, -1]\n",
    "X_test = scaled_test_data\n",
    "y_test = np.array(gender_submission)[:,1]"
   ]
  },
  {
   "cell_type": "markdown",
   "id": "0f00feca",
   "metadata": {},
   "source": [
    "#### Dealing with NaN value(s) in the Fare column in the testing data"
   ]
  },
  {
   "cell_type": "code",
   "execution_count": 29,
   "id": "2c88f6fb",
   "metadata": {},
   "outputs": [],
   "source": [
    "fare_mean_test = np.nanmean(X_test, axis=0)\n",
    "inds_nan_test = np.where(np.isnan(X_test))\n",
    "X_test[inds_nan_test] = np.take(fare_mean_test, indices=inds_nan_test[1])"
   ]
  },
  {
   "cell_type": "markdown",
   "id": "12acceb8",
   "metadata": {},
   "source": [
    "#### Preparing the model and fitting the data and predicting and evaluating our model"
   ]
  },
  {
   "cell_type": "code",
   "execution_count": 30,
   "id": "99e4af57",
   "metadata": {},
   "outputs": [
    {
     "name": "stdout",
     "output_type": "stream",
     "text": [
      "0.9425837320574163\n"
     ]
    }
   ],
   "source": [
    "model = LogisticRegression()\n",
    "model.fit(X, y)\n",
    "print(model.score(X_test, y_test))\n",
    "prediction = model.predict(X_test)"
   ]
  },
  {
   "cell_type": "code",
   "execution_count": 33,
   "id": "34ec47e8",
   "metadata": {},
   "outputs": [],
   "source": [
    "df = pd.DataFrame(prediction, index=np.arange(892, 1310))\n",
    "submission = df.to_csv(r'C:\\Users\\Kartikeya Sharma\\OneDrive\\Desktop\\Kaggle\\submission.csv')"
   ]
  },
  {
   "cell_type": "code",
   "execution_count": 34,
   "id": "9890c362",
   "metadata": {},
   "outputs": [
    {
     "data": {
      "text/html": [
       "<div>\n",
       "<style scoped>\n",
       "    .dataframe tbody tr th:only-of-type {\n",
       "        vertical-align: middle;\n",
       "    }\n",
       "\n",
       "    .dataframe tbody tr th {\n",
       "        vertical-align: top;\n",
       "    }\n",
       "\n",
       "    .dataframe thead th {\n",
       "        text-align: right;\n",
       "    }\n",
       "</style>\n",
       "<table border=\"1\" class=\"dataframe\">\n",
       "  <thead>\n",
       "    <tr style=\"text-align: right;\">\n",
       "      <th></th>\n",
       "      <th>0</th>\n",
       "    </tr>\n",
       "  </thead>\n",
       "  <tbody>\n",
       "    <tr>\n",
       "      <th>892</th>\n",
       "      <td>0</td>\n",
       "    </tr>\n",
       "    <tr>\n",
       "      <th>893</th>\n",
       "      <td>0</td>\n",
       "    </tr>\n",
       "    <tr>\n",
       "      <th>894</th>\n",
       "      <td>0</td>\n",
       "    </tr>\n",
       "    <tr>\n",
       "      <th>895</th>\n",
       "      <td>0</td>\n",
       "    </tr>\n",
       "    <tr>\n",
       "      <th>896</th>\n",
       "      <td>1</td>\n",
       "    </tr>\n",
       "    <tr>\n",
       "      <th>...</th>\n",
       "      <td>...</td>\n",
       "    </tr>\n",
       "    <tr>\n",
       "      <th>1305</th>\n",
       "      <td>0</td>\n",
       "    </tr>\n",
       "    <tr>\n",
       "      <th>1306</th>\n",
       "      <td>1</td>\n",
       "    </tr>\n",
       "    <tr>\n",
       "      <th>1307</th>\n",
       "      <td>0</td>\n",
       "    </tr>\n",
       "    <tr>\n",
       "      <th>1308</th>\n",
       "      <td>0</td>\n",
       "    </tr>\n",
       "    <tr>\n",
       "      <th>1309</th>\n",
       "      <td>0</td>\n",
       "    </tr>\n",
       "  </tbody>\n",
       "</table>\n",
       "<p>418 rows × 1 columns</p>\n",
       "</div>"
      ],
      "text/plain": [
       "      0\n",
       "892   0\n",
       "893   0\n",
       "894   0\n",
       "895   0\n",
       "896   1\n",
       "...  ..\n",
       "1305  0\n",
       "1306  1\n",
       "1307  0\n",
       "1308  0\n",
       "1309  0\n",
       "\n",
       "[418 rows x 1 columns]"
      ]
     },
     "execution_count": 34,
     "metadata": {},
     "output_type": "execute_result"
    }
   ],
   "source": [
    "df"
   ]
  }
 ],
 "metadata": {
  "kernelspec": {
   "display_name": "Python 3",
   "language": "python",
   "name": "python3"
  },
  "language_info": {
   "codemirror_mode": {
    "name": "ipython",
    "version": 3
   },
   "file_extension": ".py",
   "mimetype": "text/x-python",
   "name": "python",
   "nbconvert_exporter": "python",
   "pygments_lexer": "ipython3",
   "version": "3.9.5"
  }
 },
 "nbformat": 4,
 "nbformat_minor": 5
}
