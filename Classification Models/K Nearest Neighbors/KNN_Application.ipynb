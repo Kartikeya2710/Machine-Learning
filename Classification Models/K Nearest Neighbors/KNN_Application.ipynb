{
 "cells": [
  {
   "cell_type": "code",
   "execution_count": 1,
   "id": "ee9a14f5",
   "metadata": {},
   "outputs": [],
   "source": [
    "import numpy as np\n",
    "import matplotlib.pyplot as plt\n",
    "from matplotlib import style\n",
    "from collections import Counter\n",
    "import warnings\n",
    "from itertools import chain\n",
    "style.use('ggplot')\n",
    "%matplotlib inline"
   ]
  },
  {
   "cell_type": "code",
   "execution_count": 2,
   "id": "ec844a26",
   "metadata": {},
   "outputs": [],
   "source": [
    "class KNN:\n",
    "    \n",
    "    def __init__(self, k=3, distance_metric=\"Euclidean\"):\n",
    "        self.k = k\n",
    "        self.distance_metric = \"Euclidean\"\n",
    "        \n",
    "        \n",
    "    def __distance(self, x, y):\n",
    "        if(self.distance_metric==\"Euclidean\"):\n",
    "            return np.linalg.norm( (x-y), 2 )\n",
    "        elif(self.distance_metric == \"Manhattan\"):\n",
    "            return np.linalg.norm((x-y), 1)\n",
    "        else:\n",
    "            print(\"Please enter a valid distance metric\")\n",
    "            return -99999\n",
    "        \n",
    "        \n",
    "    def __calc_all_dist(self, train_data, point):\n",
    "        dists = []\n",
    "        [dists.append( [self.__distance(i[:-1], point) , i[-1]] ) for i in train_data]\n",
    "        return dists\n",
    "        \n",
    "        \n",
    "    def __calc_votes(self, train_data, point):\n",
    "        distances = self.__calc_all_dist(train_data, point)\n",
    "        votes = []\n",
    "        [votes.append(i[1]) for i in sorted(distances)[:self.k]]\n",
    "        return Counter(votes).most_common(1)[0][0] # We want to find the (1st) most common category in this list containing the k nearest neighbors\n",
    "        \n",
    "    \n",
    "    def predict(self, train_data, test_data, test_size=0.2): # The data to be used for calculating the distance metric and the data whose category is to be predicted\n",
    "        if len(np.unique(train_data[:, -1])) > self.k:\n",
    "            warnings.warn(\"Hey! The number of categories is greater than k. Please increase the value of k\")\n",
    "        result = []\n",
    "        [result.append(self.__calc_votes(train_data, point)) for point in test_data[:, :-1]]\n",
    "        return result\n",
    "    \n",
    "    def confidence(self, train_data, point, correct_class):\n",
    "        distances = self.__calc_all_dist(train_data, point)\n",
    "        votes = []\n",
    "        [votes.append(i[1]) for i in sorted(distances)[:self.k]]\n",
    "        return 1 - ( votes.count(correct_class)/len(votes) )\n",
    "        \n",
    "    \n",
    "    def score(self, train_data, test_data):\n",
    "        result = self.predict(train_data, test_data)\n",
    "        correct = 0\n",
    "        for i in range(len(result)):\n",
    "            if result[i] == test_data[i, -1]:\n",
    "                correct += 1\n",
    "            else:\n",
    "                print(f\"Confidence of the incorrect prediction number {i} = {self.confidence(test_data, test_data[i, :-1], test_data[i, -1])}\")\n",
    "        return correct/len(test_data)\n",
    "    \n",
    "#     def optimal_k(self, full_data, cross_folds=3, test_size=0.2):\n",
    "        \n",
    "#         scores = []\n",
    "#         maxi = 3\n",
    "#         for k in range(3, 40, 5):\n",
    "#             self.k = k\n",
    "#             folds_scores = np.empty(shape=(cross_folds))\n",
    "            \n",
    "#             for i in range(cross_folds):\n",
    "#                 np.random.shuffle(full_data)\n",
    "#                 train_data = full_data[:-int(len(full_data)*test_size), :]\n",
    "#                 test_data = full_data[-int(len(full_data)*test_size):, :]\n",
    "#                 folds_scores = np.concatenate((folds_scores, self.score(train_data, test_data)), axis=None)\n",
    "                \n",
    "#             new_score = folds_scores.mean()\n",
    "#             scores.append(new_score)\n",
    "#             if new_score == max(scores):\n",
    "#                 maxi = k\n",
    "        \n",
    "#         return maxi"
   ]
  },
  {
   "cell_type": "markdown",
   "id": "f910e289",
   "metadata": {},
   "source": [
    "### Applying our model on real-data"
   ]
  },
  {
   "cell_type": "code",
   "execution_count": 3,
   "id": "7a0bd456",
   "metadata": {},
   "outputs": [],
   "source": [
    "import pandas as pd"
   ]
  },
  {
   "cell_type": "code",
   "execution_count": 4,
   "id": "178c1fef",
   "metadata": {},
   "outputs": [],
   "source": [
    "df = pd.read_csv(\"breast-cancer-wisconsin.data\", header=None, na_values='?').drop(0, axis=1)"
   ]
  },
  {
   "cell_type": "code",
   "execution_count": 5,
   "id": "6a4a4c5b",
   "metadata": {},
   "outputs": [],
   "source": [
    "df.columns = [\"clump_thick\", \"unif_cell_size\", \"unif_cell_shape\", \"marg_adh\", \"single_epi_cell_size\", \"bare_nuc\", \"bland_chr\", \"normal_nucleo\", \"mitosis\", \"class\"]"
   ]
  },
  {
   "cell_type": "code",
   "execution_count": 6,
   "id": "a05ab337",
   "metadata": {},
   "outputs": [],
   "source": [
    "df.fillna(np.floor(df['bare_nuc'].mean()), inplace=True)"
   ]
  },
  {
   "cell_type": "code",
   "execution_count": 7,
   "id": "5d02df85",
   "metadata": {
    "scrolled": true
   },
   "outputs": [
    {
     "data": {
      "text/html": [
       "<div>\n",
       "<style scoped>\n",
       "    .dataframe tbody tr th:only-of-type {\n",
       "        vertical-align: middle;\n",
       "    }\n",
       "\n",
       "    .dataframe tbody tr th {\n",
       "        vertical-align: top;\n",
       "    }\n",
       "\n",
       "    .dataframe thead th {\n",
       "        text-align: right;\n",
       "    }\n",
       "</style>\n",
       "<table border=\"1\" class=\"dataframe\">\n",
       "  <thead>\n",
       "    <tr style=\"text-align: right;\">\n",
       "      <th></th>\n",
       "      <th>clump_thick</th>\n",
       "      <th>unif_cell_size</th>\n",
       "      <th>unif_cell_shape</th>\n",
       "      <th>marg_adh</th>\n",
       "      <th>single_epi_cell_size</th>\n",
       "      <th>bare_nuc</th>\n",
       "      <th>bland_chr</th>\n",
       "      <th>normal_nucleo</th>\n",
       "      <th>mitosis</th>\n",
       "      <th>class</th>\n",
       "    </tr>\n",
       "  </thead>\n",
       "  <tbody>\n",
       "    <tr>\n",
       "      <th>0</th>\n",
       "      <td>5</td>\n",
       "      <td>1</td>\n",
       "      <td>1</td>\n",
       "      <td>1</td>\n",
       "      <td>2</td>\n",
       "      <td>1.0</td>\n",
       "      <td>3</td>\n",
       "      <td>1</td>\n",
       "      <td>1</td>\n",
       "      <td>2</td>\n",
       "    </tr>\n",
       "    <tr>\n",
       "      <th>1</th>\n",
       "      <td>5</td>\n",
       "      <td>4</td>\n",
       "      <td>4</td>\n",
       "      <td>5</td>\n",
       "      <td>7</td>\n",
       "      <td>10.0</td>\n",
       "      <td>3</td>\n",
       "      <td>2</td>\n",
       "      <td>1</td>\n",
       "      <td>2</td>\n",
       "    </tr>\n",
       "    <tr>\n",
       "      <th>2</th>\n",
       "      <td>3</td>\n",
       "      <td>1</td>\n",
       "      <td>1</td>\n",
       "      <td>1</td>\n",
       "      <td>2</td>\n",
       "      <td>2.0</td>\n",
       "      <td>3</td>\n",
       "      <td>1</td>\n",
       "      <td>1</td>\n",
       "      <td>2</td>\n",
       "    </tr>\n",
       "    <tr>\n",
       "      <th>3</th>\n",
       "      <td>6</td>\n",
       "      <td>8</td>\n",
       "      <td>8</td>\n",
       "      <td>1</td>\n",
       "      <td>3</td>\n",
       "      <td>4.0</td>\n",
       "      <td>3</td>\n",
       "      <td>7</td>\n",
       "      <td>1</td>\n",
       "      <td>2</td>\n",
       "    </tr>\n",
       "    <tr>\n",
       "      <th>4</th>\n",
       "      <td>4</td>\n",
       "      <td>1</td>\n",
       "      <td>1</td>\n",
       "      <td>3</td>\n",
       "      <td>2</td>\n",
       "      <td>1.0</td>\n",
       "      <td>3</td>\n",
       "      <td>1</td>\n",
       "      <td>1</td>\n",
       "      <td>2</td>\n",
       "    </tr>\n",
       "  </tbody>\n",
       "</table>\n",
       "</div>"
      ],
      "text/plain": [
       "   clump_thick  unif_cell_size  unif_cell_shape  marg_adh  \\\n",
       "0            5               1                1         1   \n",
       "1            5               4                4         5   \n",
       "2            3               1                1         1   \n",
       "3            6               8                8         1   \n",
       "4            4               1                1         3   \n",
       "\n",
       "   single_epi_cell_size  bare_nuc  bland_chr  normal_nucleo  mitosis  class  \n",
       "0                     2       1.0          3              1        1      2  \n",
       "1                     7      10.0          3              2        1      2  \n",
       "2                     2       2.0          3              1        1      2  \n",
       "3                     3       4.0          3              7        1      2  \n",
       "4                     2       1.0          3              1        1      2  "
      ]
     },
     "execution_count": 7,
     "metadata": {},
     "output_type": "execute_result"
    }
   ],
   "source": [
    "df.head()"
   ]
  },
  {
   "cell_type": "code",
   "execution_count": 8,
   "id": "a5bf4324",
   "metadata": {},
   "outputs": [],
   "source": [
    "wisc_df = df.sample(frac=1, random_state=12)"
   ]
  },
  {
   "cell_type": "code",
   "execution_count": 9,
   "id": "5c248883",
   "metadata": {
    "scrolled": true
   },
   "outputs": [
    {
     "data": {
      "text/plain": [
       "array([[ 1.,  1.,  1., ...,  1.,  1.,  2.],\n",
       "       [ 2.,  1.,  1., ...,  1.,  1.,  2.],\n",
       "       [ 4.,  1.,  1., ...,  1.,  1.,  2.],\n",
       "       ...,\n",
       "       [ 6., 10., 10., ...,  3.,  3.,  4.],\n",
       "       [ 1.,  1.,  1., ...,  1.,  1.,  2.],\n",
       "       [ 3.,  1.,  1., ...,  1.,  1.,  2.]])"
      ]
     },
     "execution_count": 9,
     "metadata": {},
     "output_type": "execute_result"
    }
   ],
   "source": [
    "data = wisc_df.to_numpy()\n",
    "data"
   ]
  },
  {
   "cell_type": "code",
   "execution_count": 10,
   "id": "c940d8fa",
   "metadata": {},
   "outputs": [],
   "source": [
    "test_size = 0.2\n",
    "train_data = data[:-int(len(data)*test_size), :]\n",
    "test_data = data[-int(len(data)*test_size):, :]"
   ]
  },
  {
   "cell_type": "code",
   "execution_count": 11,
   "id": "84f328e8",
   "metadata": {},
   "outputs": [],
   "source": [
    "model = KNN(k=5)"
   ]
  },
  {
   "cell_type": "code",
   "execution_count": 12,
   "id": "75a2efdb",
   "metadata": {},
   "outputs": [],
   "source": [
    "result = model.predict(train_data, test_data)"
   ]
  },
  {
   "cell_type": "code",
   "execution_count": 13,
   "id": "feccb36e",
   "metadata": {},
   "outputs": [
    {
     "name": "stdout",
     "output_type": "stream",
     "text": [
      "Confidence of the incorrect prediction number 0 = 0.4\n",
      "Confidence of the incorrect prediction number 133 = 0.8\n"
     ]
    },
    {
     "data": {
      "text/plain": [
       "0.9856115107913669"
      ]
     },
     "execution_count": 13,
     "metadata": {},
     "output_type": "execute_result"
    }
   ],
   "source": [
    "model.score(train_data, test_data)"
   ]
  }
 ],
 "metadata": {
  "kernelspec": {
   "display_name": "Python 3",
   "language": "python",
   "name": "python3"
  },
  "language_info": {
   "codemirror_mode": {
    "name": "ipython",
    "version": 3
   },
   "file_extension": ".py",
   "mimetype": "text/x-python",
   "name": "python",
   "nbconvert_exporter": "python",
   "pygments_lexer": "ipython3",
   "version": "3.9.5"
  }
 },
 "nbformat": 4,
 "nbformat_minor": 5
}
