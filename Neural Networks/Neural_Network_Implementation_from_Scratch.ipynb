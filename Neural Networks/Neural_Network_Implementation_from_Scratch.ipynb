{
 "cells": [
  {
   "attachments": {},
   "cell_type": "markdown",
   "metadata": {
    "id": "F0DRNwk6IoMT"
   },
   "source": [
    "# **Implementing Neural Networks from Scratch**\n",
    "#### We will be using Python's built-in modules like:\n",
    "* Numpy\n",
    "* Matplotlib\n",
    "\n",
    "and sklearn's datasets for fetching the pre-prepared dataset of digits also called the MNIST dataset\n",
    "#### To build our *very own* **3 - layer Neural Network**, yay! 😍\n",
    "\n",
    "To be a little more precise, 3 layers means 3 layers excluding the input layer, so we have 2 hidden layers and 1 output layer\n",
    "\n",
    "<img src=\"https://www.codespeedy.com/wp-content/uploads/2019/05/ann.png\" width=400>\n",
    "\n",
    "*NOTE: This only represents the number of layers our network will have*"
   ]
  },
  {
   "cell_type": "code",
   "execution_count": 1,
   "metadata": {
    "id": "LtmFCMyrWBd8"
   },
   "outputs": [],
   "source": [
    "# Let's start by importing some basic libraries that will be helpful\n",
    "import numpy as np\n",
    "import matplotlib.pyplot as plt\n",
    "from sklearn.datasets import fetch_openml"
   ]
  },
  {
   "cell_type": "code",
   "execution_count": 2,
   "metadata": {
    "id": "a1lzNHhzXdXM"
   },
   "outputs": [],
   "source": [
    "# Let's take some images as input for classifying using the mnist dataset that has already been\n",
    "# prepared and cleaned for use\n",
    "data = fetch_openml(name = 'mnist_784')"
   ]
  },
  {
   "cell_type": "code",
   "execution_count": 3,
   "metadata": {
    "id": "qIgs-GfGZTE2"
   },
   "outputs": [],
   "source": [
    "# print(data.DESCR)\n",
    "# Read this to know a little more about the dataset"
   ]
  },
  {
   "cell_type": "code",
   "execution_count": 4,
   "metadata": {
    "id": "HijArtLJZqEy"
   },
   "outputs": [],
   "source": [
    "# data.feature_names\n",
    "# This shows that we have a total of 784 pixels in each image"
   ]
  },
  {
   "cell_type": "code",
   "execution_count": 5,
   "metadata": {
    "colab": {
     "base_uri": "https://localhost:8080/"
    },
    "id": "-_zpWSNYcfW5",
    "outputId": "be728753-6d02-480d-93d9-1c24000f6224"
   },
   "outputs": [
    {
     "data": {
      "text/plain": [
       "array([[0., 0., 0., ..., 0., 0., 0.],\n",
       "       [0., 0., 0., ..., 0., 0., 0.],\n",
       "       [0., 0., 0., ..., 0., 0., 0.],\n",
       "       ...,\n",
       "       [0., 0., 0., ..., 0., 0., 0.],\n",
       "       [0., 0., 0., ..., 0., 0., 0.],\n",
       "       [0., 0., 0., ..., 0., 0., 0.]])"
      ]
     },
     "execution_count": 5,
     "metadata": {},
     "output_type": "execute_result"
    }
   ],
   "source": [
    "# This is the data consisting of 70,000 examples each consisting of 784 features (pixels) and thus the shape in the \n",
    "# converted NumPy array should be (70000, 784)\n",
    "data.data"
   ]
  },
  {
   "cell_type": "code",
   "execution_count": 6,
   "metadata": {
    "id": "ChKXDaZFd5QY"
   },
   "outputs": [],
   "source": [
    "# Defining our X and Y arrays\n",
    "X = np.array(data[\"data\"])\n",
    "Y = np.array(data[\"target\"], dtype=np.int)"
   ]
  },
  {
   "cell_type": "code",
   "execution_count": 7,
   "metadata": {
    "colab": {
     "base_uri": "https://localhost:8080/"
    },
    "id": "yzipEBrFgfSJ",
    "outputId": "efd1eeef-3d64-40a3-e918-9c4db9809056"
   },
   "outputs": [
    {
     "name": "stdout",
     "output_type": "stream",
     "text": [
      "(70000, 784)\n",
      "(70000,)\n"
     ]
    }
   ],
   "source": [
    "print(X.shape)\n",
    "print(Y.shape)"
   ]
  },
  {
   "cell_type": "code",
   "execution_count": 8,
   "metadata": {
    "id": "PO-vcK7pg6Md"
   },
   "outputs": [],
   "source": [
    "# For simplicity, we will convert the 1-dimensional y array to a 2-dimnesional array\n",
    "# because I have had bad experiences with 1-D NumPy arrays\n",
    "Y = Y.reshape((-1, 1))"
   ]
  },
  {
   "cell_type": "code",
   "execution_count": 9,
   "metadata": {
    "colab": {
     "base_uri": "https://localhost:8080/"
    },
    "id": "OmAIHKQIiKgY",
    "outputId": "17207b2e-df1c-436e-a0cf-fc931c6e1959"
   },
   "outputs": [
    {
     "name": "stdout",
     "output_type": "stream",
     "text": [
      "X :  (70000, 784)\n",
      "Y :  (70000, 1)\n"
     ]
    }
   ],
   "source": [
    "print(\"X : \", X.shape) # This should be 784 x 70000\n",
    "print(\"Y : \", Y.shape) # This should be 1 x 70000"
   ]
  },
  {
   "cell_type": "code",
   "execution_count": 10,
   "metadata": {
    "colab": {
     "base_uri": "https://localhost:8080/",
     "height": 1000
    },
    "id": "EmmZpPUri9d2",
    "outputId": "4934c56a-b353-4779-9b5e-fc20ddef7f24"
   },
   "outputs": [
    {
     "name": "stdout",
     "output_type": "stream",
     "text": [
      "(784,)\n",
      "(28, 28)\n"
     ]
    },
    {
     "data": {
      "image/png": "[encoded data removed]",
      "text/plain": [
       "<Figure size 432x288 with 1 Axes>"
      ]
     },
     "metadata": {
      "needs_background": "light"
     },
     "output_type": "display_data"
    },
    {
     "name": "stdout",
     "output_type": "stream",
     "text": [
      "This is a 5\n",
      "(784,)\n",
      "(28, 28)\n"
     ]
    },
    {
     "data": {
      "image/png": "[encoded data removed]",
      "text/plain": [
       "<Figure size 432x288 with 1 Axes>"
      ]
     },
     "metadata": {
      "needs_background": "light"
     },
     "output_type": "display_data"
    },
    {
     "name": "stdout",
     "output_type": "stream",
     "text": [
      "This is a 0\n",
      "(784,)\n",
      "(28, 28)\n"
     ]
    },
    {
     "data": {
      "image/png": "[encoded data removed]",
      "text/plain": [
       "<Figure size 432x288 with 1 Axes>"
      ]
     },
     "metadata": {
      "needs_background": "light"
     },
     "output_type": "display_data"
    },
    {
     "name": "stdout",
     "output_type": "stream",
     "text": [
      "This is a 4\n",
      "(784,)\n",
      "(28, 28)\n"
     ]
    },
    {
     "data": {
      "image/png": "[encoded data removed]",
      "text/plain": [
       "<Figure size 432x288 with 1 Axes>"
      ]
     },
     "metadata": {
      "needs_background": "light"
     },
     "output_type": "display_data"
    },
    {
     "name": "stdout",
     "output_type": "stream",
     "text": [
      "This is a 1\n",
      "(784,)\n",
      "(28, 28)\n"
     ]
    },
    {
     "data": {
      "image/png": "[encoded data removed]",
      "text/plain": [
       "<Figure size 432x288 with 1 Axes>"
      ]
     },
     "metadata": {
      "needs_background": "light"
     },
     "output_type": "display_data"
    },
    {
     "name": "stdout",
     "output_type": "stream",
     "text": [
      "This is a 9\n",
      "(784,)\n",
      "(28, 28)\n"
     ]
    },
    {
     "data": {
      "image/png": "[encoded data removed]",
      "text/plain": [
       "<Figure size 432x288 with 1 Axes>"
      ]
     },
     "metadata": {
      "needs_background": "light"
     },
     "output_type": "display_data"
    },
    {
     "name": "stdout",
     "output_type": "stream",
     "text": [
      "This is a 2\n"
     ]
    }
   ],
   "source": [
    "# Before moving forward let's have a look at some of the images\n",
    "# Don't forget, our images need to be 28x28 but the array has them in a 784 x 1 format\n",
    "for i in range(6):\n",
    "    arr = X[i, :]\n",
    "    print(arr.shape)\n",
    "    arr = np.reshape(arr, (28, 28))\n",
    "    print(arr.shape)\n",
    "    plt.imshow(arr, cmap=\"binary\")\n",
    "    plt.show()\n",
    "    print(f\"This is a {Y[i][0]}\")"
   ]
  },
  {
   "cell_type": "markdown",
   "metadata": {
    "id": "UBfVXUH2kPDV"
   },
   "source": [
    "**Our matrices are of the following shapes:**\n",
    "\n",
    "X :  (70000 ,  784) --> (m, n_x)\n",
    "\n",
    "Y :  (70000, 1) --------> (m, 1)\n",
    "\n",
    "**We need to convert them into:**\n",
    "\n",
    "X :  (784, 70000) --> (n_x, m)\n",
    "\n",
    "Y :  (1. 70000) -------> (1, m)\n",
    "\n",
    "For being ***compatible*** with our Neural Network"
   ]
  },
  {
   "cell_type": "code",
   "execution_count": 11,
   "metadata": {
    "id": "GVKVQ2tvvpMI"
   },
   "outputs": [],
   "source": [
    "X = X.T\n",
    "Y = Y.T"
   ]
  },
  {
   "cell_type": "code",
   "execution_count": 12,
   "metadata": {
    "id": "q3prFZq5wvzB"
   },
   "outputs": [],
   "source": [
    "# Splitting up our data into train and test data\n",
    "X_train = X[:, :60000]\n",
    "Y_train = Y[:, :60000]\n",
    "X_test = X[:, -10000:]\n",
    "Y_test = Y[:, -10000:]"
   ]
  },
  {
   "cell_type": "code",
   "execution_count": 13,
   "metadata": {
    "colab": {
     "base_uri": "https://localhost:8080/"
    },
    "id": "OnsjOkLF14Zk",
    "outputId": "b2d9d32b-8d4c-4696-d08c-640bdd0ba615"
   },
   "outputs": [
    {
     "data": {
      "text/plain": [
       "((784, 60000), (1, 60000), (784, 10000), (1, 10000))"
      ]
     },
     "execution_count": 13,
     "metadata": {},
     "output_type": "execute_result"
    }
   ],
   "source": [
    "X_train.shape, Y_train.shape, X_test.shape, Y_test.shape"
   ]
  },
  {
   "cell_type": "markdown",
   "metadata": {
    "id": "u3r605JL1-Rz"
   },
   "source": [
    "### Now that we have our data prepared and ready to be fed in our Neural Network, let's build one!\n",
    "\n",
    "#### Our model will have an input layer of 784 units, two hidden layers with 32 and 16 units respectively and an output layer with 10 units each corresponding to the predicted probability for a digit"
   ]
  },
  {
   "cell_type": "code",
   "execution_count": 14,
   "metadata": {
    "id": "9ZpYn57BkDAp"
   },
   "outputs": [],
   "source": [
    "# Let's start by initializing our parameters, namely W1, b1, W2, b2, W3, b3\n",
    "def init_params():\n",
    "    np.random.seed(42)\n",
    "    W1 = np.random.randn(32, 784) * 0.01 # For initializing our weight with a small value close to zero\n",
    "    b1 = np.zeros(shape=(32, 1)) # It is not necessary to initialize our biases to a random value\n",
    "    W2 = np.random.randn(16, 32) * 0.01\n",
    "    b2 = np.zeros((16, 1))\n",
    "    W3 = np.random.randn(10, 16) * 0.01\n",
    "    b3 = np.zeros(shape = (10, 1))\n",
    "    # Let's include these in a dictionary as it will be helpful in indexing later \n",
    "    # Also, this will make it easier to pass arguments in the other methods/functions\n",
    "    params = {\n",
    "        \"W1\" : W1,\n",
    "        \"b1\" : b1,\n",
    "        \"W2\" : W2,\n",
    "        \"b2\" : b2,\n",
    "        \"W3\" : W3,\n",
    "        \"b3\" : b3\n",
    "    }\n",
    "    return params\n",
    "\n",
    "# Some helper functions for activation functions\n",
    "def relu(Z):\n",
    "    return np.maximum(0, Z)\n",
    "\n",
    "def sigmoid(Z):\n",
    "    return 1 / (1 + np.exp(-Z))\n",
    "\n",
    "def softmax(Z):\n",
    "    A = np.exp(Z) / sum(np.exp(Z))\n",
    "    return A\n",
    "\n",
    "def relu_derivative(Z):\n",
    "    return Z > 0\n",
    "\n",
    "\n",
    "def forward_pass(X, params):\n",
    "    Z1 = np.dot(params[\"W1\"], X) + params[\"b1\"]\n",
    "    A1 = relu(Z1)\n",
    "    Z2 = np.dot(params[\"W2\"], A1) + params[\"b2\"]\n",
    "    A2 = relu(Z2)\n",
    "    Z3 = np.dot(params[\"W3\"], A2) + params[\"b3\"]\n",
    "    A3 = sigmoid(Z3)\n",
    "\n",
    "    # We cache the Linear and Activation values as they will be helpful in back propagation\n",
    "    # They help in calculating the derivatives without having to compute Z's and A's again\n",
    "    cache = {\n",
    "        \"Z1\" : Z1,\n",
    "        \"A1\" : A1,\n",
    "        \"Z2\" : Z2,\n",
    "        \"A2\" : A2,\n",
    "        \"Z3\" : Z3,\n",
    "        \"A3\" : A3,\n",
    "    }\n",
    "\n",
    "    return cache\n",
    "\n",
    "\n",
    "# The cross entropy loss, also used for simple Logistic Regression\n",
    "def loss(Y_hat, Y):\n",
    "    m = Y.size\n",
    "    cost_1 = - (Y * np.log(Y_hat))\n",
    "    cost_2 = - ( np.subtract(1, Y) * np.log(np.subtract(1, Y_hat)) )\n",
    "    cost = (1/m) * (cost_1 + cost_2)\n",
    "    return np.sum(cost)\n",
    "\n",
    "\n",
    "# The number of predictions that we got right against the total number of output values\n",
    "def accuracy(Y_hat, Y):\n",
    "    return np.sum(Y_hat == Y) / Y.size\n",
    "\n",
    "\n",
    "# We should One-hot Y to be a 10 x m matrix so that it matches the dimensions of the \n",
    "# activation function of the last layer (A3). This will help in calculating accuracy and loss easily\n",
    "def one_hot(Y):\n",
    "    one_hot_Y = np.zeros((Y.size, Y.max() + 1))\n",
    "    one_hot_Y[np.arange(Y.size), Y] = 1\n",
    "    one_hot_Y = one_hot_Y.T\n",
    "    return one_hot_Y\n",
    "\n",
    "\n",
    "def back_prop(cache, X, Y, params):\n",
    "    m = Y.size\n",
    "    one_hot_Y = one_hot(Y)\n",
    "    dZ3 = cache[\"A3\"] - one_hot_Y\n",
    "    dW3 = (1/m) * dZ3.dot(cache[\"A2\"].T)\n",
    "    db3 = (1/m) * np.sum(dZ3, axis=1, keepdims=True)\n",
    "    dZ2 = params[\"W3\"].T.dot(dZ3) * relu_derivative(cache[\"Z2\"])\n",
    "    dW2 = (1/m) * dZ2.dot(cache[\"A1\"].T)\n",
    "    db2 = (1/m) * np.sum(dZ2, axis=1, keepdims=True)\n",
    "    dZ1 = params[\"W2\"].T.dot(dZ2) * relu_derivative(cache[\"Z1\"])\n",
    "    dW1 = (1/m) * dZ1.dot(X.T)\n",
    "    db1 = (1/m) * np.sum(dZ1, axis=1, keepdims=True)\n",
    "\n",
    "    grads = {\n",
    "        \"dW1\" : dW1,\n",
    "        \"db1\" : db1,\n",
    "        \"dW2\" : dW2,\n",
    "        \"db2\" : db2,\n",
    "        \"dW3\" : dW3,\n",
    "        \"db3\" : db3,\n",
    "    }\n",
    "    return grads\n",
    "\n",
    "def update_params(params, grads, learning_rate):\n",
    "    for i in range(1, len(params)//2 + 1):\n",
    "        params[\"W\" + str(i)] = params[\"W\" + str(i)] - learning_rate[i-1] * grads[\"dW\" + str(i)]\n",
    "        params[\"b\" + str(i)] = params[\"b\" + str(i)] - learning_rate[i-1] * grads[\"db\" + str(i)]\n",
    "    return params\n",
    "\n",
    "def predictions(Y_hat):\n",
    "    return np.argmax(Y_hat, 0)\n",
    "\n",
    "def gradient_descent(X, Y, epochs, learning_rate):\n",
    "    params = init_params()\n",
    "    \n",
    "    costs = []\n",
    "    accuracies = []\n",
    "    for i in range(epochs):\n",
    "        cache = forward_pass(X, params)\n",
    "        grads = back_prop(cache, X, Y, params)\n",
    "        params = update_params(params, grads, learning_rate)\n",
    "        if i % 10 == 0:\n",
    "            Y_hat = predictions(cache[\"A3\"]) # This gives us the \"A3\" predictions also called Y_hat\n",
    "            print(accuracy(Y_hat, Y))\n",
    "            acc = accuracy(Y_hat, Y)\n",
    "            accuracies.append(acc)\n",
    "            # costs.append(loss(Y_hat, Y))\n",
    "            # print(loss(Y_hat, Y))\n",
    "    return params, costs, accuracies"
   ]
  },
  {
   "cell_type": "code",
   "execution_count": 15,
   "metadata": {
    "colab": {
     "base_uri": "https://localhost:8080/"
    },
    "id": "dVulwJXOwIvt",
    "outputId": "83ac764b-4b51-4038-8982-f422eaf1ba2a",
    "tags": []
   },
   "outputs": [
    {
     "name": "stdout",
     "output_type": "stream",
     "text": [
      "0.11681666666666667\n",
      "0.13378333333333334\n",
      "0.24043333333333333\n",
      "0.37705\n",
      "0.49656666666666666\n",
      "0.2856666666666667\n",
      "0.5224833333333333\n",
      "0.6532333333333333\n",
      "0.6346\n",
      "0.7414166666666666\n",
      "0.72115\n",
      "0.8091833333333334\n",
      "0.8276166666666667\n",
      "0.8528166666666667\n",
      "0.8580833333333333\n",
      "0.86155\n",
      "0.85365\n",
      "0.8614333333333334\n",
      "0.8882\n",
      "0.8833666666666666\n",
      "0.8898833333333334\n",
      "0.8914833333333333\n",
      "0.8973833333333333\n",
      "0.90265\n",
      "0.8890833333333333\n",
      "0.90705\n",
      "0.9104666666666666\n",
      "0.91\n",
      "0.9077833333333334\n",
      "0.9132\n",
      "0.9147833333333333\n",
      "0.9126833333333333\n",
      "0.9174166666666667\n",
      "0.9205166666666666\n",
      "0.9210833333333334\n",
      "0.9180833333333334\n",
      "0.9201666666666667\n",
      "0.9239833333333334\n",
      "0.9251666666666667\n",
      "0.9258666666666666\n",
      "0.9252166666666667\n",
      "0.92395\n",
      "0.92725\n",
      "0.9287833333333333\n",
      "0.9292666666666667\n",
      "0.9299833333333334\n",
      "0.9310666666666667\n",
      "0.9320833333333334\n",
      "0.9329833333333334\n",
      "0.9337166666666666\n"
     ]
    }
   ],
   "source": [
    "# I have not fiddled with the learning_rates a lot, so it might be possible to achieve even higher accuracies\n",
    "# with the model\n",
    "params, costs, accuracies = gradient_descent(X_train, Y_train, 500, [0.001, 0.021, 0.2])\n",
    "# These 500 iterations took 5 minutes and 45 seconds on Google Colab"
   ]
  },
  {
   "cell_type": "code",
   "execution_count": 17,
   "metadata": {
    "colab": {
     "base_uri": "https://localhost:8080/",
     "height": 313
    },
    "id": "egOsRViNwXuJ",
    "outputId": "99fb2aad-fc04-4f61-eccb-b018a102bbd4",
    "tags": []
   },
   "outputs": [
    {
     "data": {
      "text/plain": [
       "Text(0.5, 1.0, 'Accuracy v/s Iterations for our 3 layer Neural Network')"
      ]
     },
     "execution_count": 17,
     "metadata": {},
     "output_type": "execute_result"
    },
    {
     "data": {
      "image/png": "[encoded data removed]",
      "text/plain": [
       "<Figure size 432x288 with 1 Axes>"
      ]
     },
     "metadata": {
      "needs_background": "light"
     },
     "output_type": "display_data"
    }
   ],
   "source": [
    "plt.plot(np.arange(1, 501, 10), accuracies, \"x\")\n",
    "plt.xlabel(\"No. of iterations\")\n",
    "plt.ylabel(\"Accuracy\")\n",
    "plt.title(\"Accuracy v/s Iterations for our 3 layer Neural Network\")"
   ]
  },
  {
   "cell_type": "code",
   "execution_count": 18,
   "metadata": {
    "id": "OWevAZ3QyTDe"
   },
   "outputs": [],
   "source": [
    "# All the A's and Z's for training data and testing data\n",
    "cache_test = forward_pass(X_test,params)\n",
    "cache_train = forward_pass(X_train, params)"
   ]
  },
  {
   "cell_type": "code",
   "execution_count": 19,
   "metadata": {
    "colab": {
     "base_uri": "https://localhost:8080/"
    },
    "id": "rdmKswWmyuJ-",
    "outputId": "57237af1-6442-47c7-93c5-e9db7625f5af"
   },
   "outputs": [
    {
     "name": "stdout",
     "output_type": "stream",
     "text": [
      "Testing accuracy:  0.9311\n",
      "Training accuracy was:  0.934\n",
      "This shows that our model is not overfitting our training data\n"
     ]
    }
   ],
   "source": [
    "# (Remember the sigmoid activation function's curve)\n",
    "# Convert the output of our model to prediction by mapping any value > 0 to 1 and any value <= 0 to 0\n",
    "\n",
    "pred_train = predictions(cache_train[\"A3\"])\n",
    "pred_test = predictions(cache_test[\"A3\"])\n",
    "\n",
    "print(\"Testing accuracy: \", accuracy(pred_test, Y_test))\n",
    "print(\"Training accuracy was: \", accuracy(pred_train, Y_train))\n",
    "print(\"This shows that our model is not overfitting our training data\")"
   ]
  },
  {
   "cell_type": "code",
   "execution_count": 20,
   "metadata": {
    "colab": {
     "base_uri": "https://localhost:8080/",
     "height": 1000
    },
    "id": "1RYl1gKmzW-f",
    "outputId": "fb1d1916-cda9-4dac-e186-95f3443f7868"
   },
   "outputs": [
    {
     "data": {
      "image/png": "[encoded data removed]",
      "text/plain": [
       "<Figure size 432x288 with 1 Axes>"
      ]
     },
     "metadata": {
      "needs_background": "light"
     },
     "output_type": "display_data"
    },
    {
     "name": "stdout",
     "output_type": "stream",
     "text": [
      "This is a 7\n",
      "Our model predicts that this is a 7\n"
     ]
    },
    {
     "data": {
      "image/png": "[encoded data removed]",
      "text/plain": [
       "<Figure size 432x288 with 1 Axes>"
      ]
     },
     "metadata": {
      "needs_background": "light"
     },
     "output_type": "display_data"
    },
    {
     "name": "stdout",
     "output_type": "stream",
     "text": [
      "This is a 2\n",
      "Our model predicts that this is a 2\n"
     ]
    },
    {
     "data": {
      "image/png": "[encoded data removed]",
      "text/plain": [
       "<Figure size 432x288 with 1 Axes>"
      ]
     },
     "metadata": {
      "needs_background": "light"
     },
     "output_type": "display_data"
    },
    {
     "name": "stdout",
     "output_type": "stream",
     "text": [
      "This is a 1\n",
      "Our model predicts that this is a 1\n"
     ]
    },
    {
     "data": {
      "image/png": "[encoded data removed]",
      "text/plain": [
       "<Figure size 432x288 with 1 Axes>"
      ]
     },
     "metadata": {
      "needs_background": "light"
     },
     "output_type": "display_data"
    },
    {
     "name": "stdout",
     "output_type": "stream",
     "text": [
      "This is a 0\n",
      "Our model predicts that this is a 0\n"
     ]
    },
    {
     "data": {
      "image/png": "[encoded data removed]",
      "text/plain": [
       "<Figure size 432x288 with 1 Axes>"
      ]
     },
     "metadata": {
      "needs_background": "light"
     },
     "output_type": "display_data"
    },
    {
     "name": "stdout",
     "output_type": "stream",
     "text": [
      "This is a 4\n",
      "Our model predicts that this is a 4\n"
     ]
    },
    {
     "data": {
      "image/png": "[encoded data removed]",
      "text/plain": [
       "<Figure size 432x288 with 1 Axes>"
      ]
     },
     "metadata": {
      "needs_background": "light"
     },
     "output_type": "display_data"
    },
    {
     "name": "stdout",
     "output_type": "stream",
     "text": [
      "This is a 1\n",
      "Our model predicts that this is a 1\n"
     ]
    },
    {
     "data": {
      "image/png": "[encoded data removed]",
      "text/plain": [
       "<Figure size 432x288 with 1 Axes>"
      ]
     },
     "metadata": {
      "needs_background": "light"
     },
     "output_type": "display_data"
    },
    {
     "name": "stdout",
     "output_type": "stream",
     "text": [
      "This is a 4\n",
      "Our model predicts that this is a 4\n"
     ]
    },
    {
     "data": {
      "image/png": "[encoded data removed]",
      "text/plain": [
       "<Figure size 432x288 with 1 Axes>"
      ]
     },
     "metadata": {
      "needs_background": "light"
     },
     "output_type": "display_data"
    },
    {
     "name": "stdout",
     "output_type": "stream",
     "text": [
      "This is a 9\n",
      "Our model predicts that this is a 9\n"
     ]
    },
    {
     "data": {
      "image/png": "[encoded data removed]",
      "text/plain": [
       "<Figure size 432x288 with 1 Axes>"
      ]
     },
     "metadata": {
      "needs_background": "light"
     },
     "output_type": "display_data"
    },
    {
     "name": "stdout",
     "output_type": "stream",
     "text": [
      "This is a 5\n",
      "Our model predicts that this is a 6\n"
     ]
    },
    {
     "data": {
      "image/png": "[encoded data removed]",
      "text/plain": [
       "<Figure size 432x288 with 1 Axes>"
      ]
     },
     "metadata": {
      "needs_background": "light"
     },
     "output_type": "display_data"
    },
    {
     "name": "stdout",
     "output_type": "stream",
     "text": [
      "This is a 9\n",
      "Our model predicts that this is a 9\n"
     ]
    }
   ],
   "source": [
    "# Some testing data samples to see how our model performed\n",
    "for i in range(10):\n",
    "    plt.imshow(X_test[:, i].reshape((28, 28)), cmap=\"binary\")\n",
    "    plt.show()\n",
    "    print(\"This is a\", Y_test[:, i][0])\n",
    "    print(\"Our model predicts that this is a\", pred_test[i])"
   ]
  },
  {
   "cell_type": "code",
   "execution_count": null,
   "metadata": {
    "id": "sLCgaGRSRsvS"
   },
   "outputs": [],
   "source": []
  }
 ],
 "metadata": {
  "colab": {
   "collapsed_sections": [],
   "name": "Neural_Network_Implementation_from_Scratch.ipynb",
   "provenance": []
  },
  "kernelspec": {
   "display_name": "Python 3",
   "language": "python",
   "name": "python3"
  },
  "language_info": {
   "codemirror_mode": {
    "name": "ipython",
    "version": 3
   },
   "file_extension": ".py",
   "mimetype": "text/x-python",
   "name": "python",
   "nbconvert_exporter": "python",
   "pygments_lexer": "ipython3",
   "version": "3.8.11"
  }
 },
 "nbformat": 4,
 "nbformat_minor": 1
}
