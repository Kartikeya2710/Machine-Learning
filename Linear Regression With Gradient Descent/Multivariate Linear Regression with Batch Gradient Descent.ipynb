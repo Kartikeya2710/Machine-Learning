{
 "cells": [
  {
   "cell_type": "code",
   "execution_count": 1,
   "id": "59385e3d",
   "metadata": {},
   "outputs": [],
   "source": [
    "import numpy as np\n",
    "import matplotlib.pyplot as plt"
   ]
  },
  {
   "cell_type": "markdown",
   "id": "904ec265",
   "metadata": {},
   "source": [
    "### **Generating multi-dimensional data**"
   ]
  },
  {
   "cell_type": "code",
   "execution_count": 2,
   "id": "131d9ce5",
   "metadata": {},
   "outputs": [
    {
     "data": {
      "text/plain": [
       "array([[1.        , 0.45482668, 0.81645561, 0.53836358, 0.39433709],\n",
       "       [0.45482668, 1.        , 0.52901323, 0.25656407, 0.17276646],\n",
       "       [0.81645561, 0.52901323, 1.        , 0.70234697, 0.71161832],\n",
       "       [0.53836358, 0.25656407, 0.70234697, 1.        , 0.12126434],\n",
       "       [0.39433709, 0.17276646, 0.71161832, 0.12126434, 1.        ]])"
      ]
     },
     "execution_count": 2,
     "metadata": {},
     "output_type": "execute_result"
    }
   ],
   "source": [
    "# generating a random positive semi-definite symmetric covariance matrix and mean matrix \n",
    "mean = [5.0, 8.0, 15.0, 20.0, 25.0]\n",
    "cov = np.random.rand(len(mean), len(mean))\n",
    "cov = (cov + cov.T)/2\n",
    "for i in range(len(mean)):\n",
    "    cov[i][i] = 1.0\n",
    "cov"
   ]
  },
  {
   "cell_type": "code",
   "execution_count": 3,
   "id": "86d11278",
   "metadata": {},
   "outputs": [
    {
     "name": "stderr",
     "output_type": "stream",
     "text": [
      "<ipython-input-3-62020ce8c0fd>:1: RuntimeWarning: covariance is not positive-semidefinite.\n",
      "  data = np.random.multivariate_normal(mean, cov, size=1000)\n"
     ]
    },
    {
     "data": {
      "text/plain": [
       "(1000, 5)"
      ]
     },
     "execution_count": 3,
     "metadata": {},
     "output_type": "execute_result"
    }
   ],
   "source": [
    "data = np.random.multivariate_normal(mean, cov, size=1000)\n",
    "data.shape"
   ]
  },
  {
   "cell_type": "code",
   "execution_count": 4,
   "id": "ce941276",
   "metadata": {},
   "outputs": [
    {
     "data": {
      "text/plain": [
       "array([[ 5.73711965,  8.4330535 , 16.58376085, 21.43305514, 26.28943815],\n",
       "       [ 4.69877224,  7.33411474, 13.1208508 , 17.58724844, 23.8669094 ],\n",
       "       [ 4.68008579,  7.23616498, 14.52795222, 19.51579349, 25.48261742],\n",
       "       ...,\n",
       "       [ 5.30740944,  8.05734237, 14.61177515, 19.40726058, 24.62448757],\n",
       "       [ 4.32121004,  7.31333651, 15.13744549, 20.43378066, 25.89738803],\n",
       "       [ 4.75435912,  6.78803696, 13.67291205, 19.66505541, 23.21170258]])"
      ]
     },
     "execution_count": 4,
     "metadata": {},
     "output_type": "execute_result"
    }
   ],
   "source": [
    "data_copy = data.copy()\n",
    "data_copy"
   ]
  },
  {
   "cell_type": "markdown",
   "id": "58932abe",
   "metadata": {},
   "source": [
    "### **Splitting and Reshaping Data for preprocessing**"
   ]
  },
  {
   "cell_type": "code",
   "execution_count": 5,
   "id": "d0ffd3e0",
   "metadata": {},
   "outputs": [],
   "source": [
    "x_vals = data_copy[:, :-1]\n",
    "y_vals = data_copy[:, -1]"
   ]
  },
  {
   "cell_type": "code",
   "execution_count": 6,
   "id": "55a6ddb9",
   "metadata": {},
   "outputs": [
    {
     "name": "stdout",
     "output_type": "stream",
     "text": [
      "X_train.shape = (900, 4)\n",
      "X_test = (100, 4)\n",
      "y_train.shape = (900,)\n",
      "y_test.shape = (100,)\n",
      "X_train.shape after adding the ones = (900, 5)\n",
      "X_test after adding the ones = (100, 5)\n"
     ]
    }
   ],
   "source": [
    "X_train = x_vals[:int(-0.1*len(x_vals)), :]\n",
    "X_test = x_vals[int(-0.1*len(x_vals)):, :]\n",
    "print(\"X_train.shape =\", X_train.shape)\n",
    "print(\"X_test =\", X_test.shape)\n",
    "y_train = y_vals[:int(-0.1*len(y_vals))]\n",
    "y_test = y_vals[int(-0.1*len(y_vals)):]\n",
    "print(\"y_train.shape =\", y_train.shape)\n",
    "print(\"y_test.shape =\", y_test.shape)\n",
    "\n",
    "# adding a new column of ones in the X_train and X_test\n",
    "X_train = np.hstack((np.ones( (len(X_train), 1) ), X_train))\n",
    "X_test = np.hstack((np.ones((len(X_test), 1)), X_test))\n",
    "print(\"X_train.shape after adding the ones =\", X_train.shape)\n",
    "print(\"X_test after adding the ones =\", X_test.shape)"
   ]
  },
  {
   "cell_type": "markdown",
   "id": "194b588c",
   "metadata": {},
   "source": [
    "### **Scaling the Data for increasing the efficiency of our model**"
   ]
  },
  {
   "cell_type": "code",
   "execution_count": 7,
   "id": "45392222",
   "metadata": {},
   "outputs": [],
   "source": [
    "# Scaling the data\n",
    "from sklearn.preprocessing import MinMaxScaler\n",
    "scalar = MinMaxScaler()\n",
    "X_train = scalar.fit_transform(X_train)+1\n",
    "X_test =  scalar.fit_transform(X_test)+1\n",
    "y_test = scalar.fit_transform(y_test.reshape(-1, 1))+1\n",
    "y_train = scalar.fit_transform(y_train.reshape(-1, 1))+1"
   ]
  },
  {
   "cell_type": "markdown",
   "id": "382add15",
   "metadata": {},
   "source": [
    "### **Making necessary functions**"
   ]
  },
  {
   "cell_type": "code",
   "execution_count": 8,
   "id": "cb7cf0a9",
   "metadata": {},
   "outputs": [],
   "source": [
    "def hypothesis(X, theta):\n",
    "    #            (m, 4) , (4, 1)\n",
    "    return np.dot(X, theta)"
   ]
  },
  {
   "cell_type": "code",
   "execution_count": 9,
   "id": "ab380198",
   "metadata": {},
   "outputs": [],
   "source": [
    "def cost(X, y, theta):\n",
    "    m = X.shape[0]\n",
    "    h = hypothesis(X, theta)\n",
    "    return (0.5/m) * np.sum( (h-y)**2 )"
   ]
  },
  {
   "cell_type": "markdown",
   "id": "c7d8c36a",
   "metadata": {},
   "source": [
    "#### **Unvectorized Batch Gradient Descent on multi-variate data**"
   ]
  },
  {
   "cell_type": "code",
   "execution_count": 10,
   "id": "61f347c5",
   "metadata": {
    "tags": []
   },
   "outputs": [],
   "source": [
    "def batch_gradient_descent(X, y, learning_rate = 0.001, epochs=500):\n",
    "    m = X.shape[0]\n",
    "    theta = np.ones((X.shape[1], 1))\n",
    "    h = hypothesis(X, theta)\n",
    "    temp = theta\n",
    "    costs = []\n",
    "    iters = []\n",
    "    for i in range(epochs):\n",
    "        temp[0] = theta[0] - ((learning_rate)/m) * np.sum(h - y)\n",
    "        for j in range(1, X.shape[1]):\n",
    "            temp[j] = theta[j] - ((learning_rate)/m) * np.sum(np.dot(np.transpose(X[:, j]), (h - y)))\n",
    "        theta = temp\n",
    "        h = hypothesis(X, theta)\n",
    "        new_cost = cost(X, y, theta)\n",
    "        if i%10 == 0:\n",
    "            costs.append(new_cost)\n",
    "            iters.append(i+1)\n",
    "    plt.plot(iters, costs)\n",
    "    return new_cost, theta"
   ]
  },
  {
   "cell_type": "markdown",
   "id": "2d9cf0bf",
   "metadata": {},
   "source": [
    "#### **Vecotrized Batch Gradient Descent on multi-variate data**"
   ]
  },
  {
   "cell_type": "code",
   "execution_count": 11,
   "id": "9f654a60",
   "metadata": {},
   "outputs": [],
   "source": [
    "def batch_gradient_descent_vectorized(X, y, learning_rate = 0.001, epochs=500):\n",
    "    m = X.shape[0]\n",
    "    theta = np.ones((X.shape[1], 1))\n",
    "    h = hypothesis(X, theta)\n",
    "    costs = []\n",
    "    iters = []\n",
    "    for i in range(epochs):\n",
    "        gradient = np.dot(X.T, (h-y))\n",
    "        theta = theta - ((learning_rate)/m) * gradient\n",
    "        h = hypothesis(X, theta)\n",
    "        new_cost = cost(X, y, theta)\n",
    "        if i%10 == 0:\n",
    "            costs.append(new_cost)\n",
    "            iters.append(i+1)\n",
    "    plt.plot(iters, costs)\n",
    "    return new_cost, theta"
   ]
  },
  {
   "cell_type": "markdown",
   "id": "217d2e50",
   "metadata": {},
   "source": [
    "#### The vectorized implementation is clearly faster than the unvectorized one"
   ]
  },
  {
   "cell_type": "code",
   "execution_count": 12,
   "id": "88eeeb48",
   "metadata": {
    "tags": []
   },
   "outputs": [
    {
     "name": "stdout",
     "output_type": "stream",
     "text": [
      "16.8 ms ± 116 µs per loop (mean ± std. dev. of 7 runs, 100 loops each)\n"
     ]
    },
    {
     "data": {
      "image/png": "[encoded data removed]",
      "text/plain": [
       "<Figure size 432x288 with 1 Axes>"
      ]
     },
     "metadata": {
      "needs_background": "light"
     },
     "output_type": "display_data"
    }
   ],
   "source": [
    "%timeit cost_updated_1, theta_updated_1 = batch_gradient_descent(X_train, y_train, 0.18, 200)"
   ]
  },
  {
   "cell_type": "code",
   "execution_count": 13,
   "id": "82e4376e",
   "metadata": {},
   "outputs": [
    {
     "name": "stdout",
     "output_type": "stream",
     "text": [
      "6.06 ms ± 46.8 µs per loop (mean ± std. dev. of 7 runs, 100 loops each)\n"
     ]
    },
    {
     "data": {
      "image/png": "[encoded data removed]",
      "text/plain": [
       "<Figure size 432x288 with 1 Axes>"
      ]
     },
     "metadata": {
      "needs_background": "light"
     },
     "output_type": "display_data"
    }
   ],
   "source": [
    "%timeit cost_updated_2, theta_updated_2 = batch_gradient_descent_vectorized(X_train, y_train, 0.18, 200)"
   ]
  },
  {
   "cell_type": "code",
   "execution_count": 14,
   "id": "1c4648de",
   "metadata": {},
   "outputs": [
    {
     "data": {
      "image/png": "[encoded data removed]",
      "text/plain": [
       "<Figure size 432x288 with 1 Axes>"
      ]
     },
     "metadata": {
      "needs_background": "light"
     },
     "output_type": "display_data"
    }
   ],
   "source": [
    "cost_updated_1, theta_updated_1 = batch_gradient_descent(X_train, y_train, 0.18, 200)"
   ]
  },
  {
   "cell_type": "code",
   "execution_count": 24,
   "id": "6da03011",
   "metadata": {},
   "outputs": [
    {
     "data": {
      "image/png": "[encoded data removed]",
      "text/plain": [
       "<Figure size 432x288 with 1 Axes>"
      ]
     },
     "metadata": {
      "needs_background": "light"
     },
     "output_type": "display_data"
    }
   ],
   "source": [
    "cost_updated_2, theta_updated_2 = batch_gradient_descent_vectorized(X_train, y_train, 0.18, 200)"
   ]
  },
  {
   "cell_type": "markdown",
   "id": "a534de9b",
   "metadata": {},
   "source": [
    "#### Final values of the cost function and theta"
   ]
  },
  {
   "cell_type": "code",
   "execution_count": 16,
   "id": "8a4b2f19",
   "metadata": {},
   "outputs": [
    {
     "name": "stdout",
     "output_type": "stream",
     "text": [
      "cost_updated_1 = 0.009758398249584199\n",
      "cost_updated_2 = 0.009758398249584202\n",
      "theta_updated_1\n",
      " [[ 0.49530926]\n",
      " [ 0.15831401]\n",
      " [ 0.08975538]\n",
      " [ 0.40918145]\n",
      " [-0.00392782]]\n",
      "theta_updated_2\n",
      " [[ 0.49530926]\n",
      " [ 0.15831401]\n",
      " [ 0.08975538]\n",
      " [ 0.40918145]\n",
      " [-0.00392782]]\n"
     ]
    }
   ],
   "source": [
    "print(\"cost_updated_1 =\", cost_updated_1)\n",
    "print(\"cost_updated_2 =\", cost_updated_2)\n",
    "print(\"theta_updated_1\\n\", theta_updated_1)\n",
    "print(\"theta_updated_2\\n\", theta_updated_2)"
   ]
  },
  {
   "cell_type": "markdown",
   "id": "192a76f2",
   "metadata": {},
   "source": [
    "#### Cost function value for the testing data set"
   ]
  },
  {
   "cell_type": "code",
   "execution_count": 17,
   "id": "e53b1624",
   "metadata": {},
   "outputs": [],
   "source": [
    "cost_test = cost(X_test, y_test, theta_updated_2)"
   ]
  },
  {
   "cell_type": "code",
   "execution_count": 18,
   "id": "10244386",
   "metadata": {},
   "outputs": [
    {
     "data": {
      "text/plain": [
       "0.016248385922952555"
      ]
     },
     "execution_count": 18,
     "metadata": {},
     "output_type": "execute_result"
    }
   ],
   "source": [
    "cost_test"
   ]
  },
  {
   "cell_type": "code",
   "execution_count": 19,
   "id": "a58fa970",
   "metadata": {},
   "outputs": [],
   "source": [
    "# plt.plot(X_test[:, 1:], hypothesis(X_test, theta_updated_2))"
   ]
  },
  {
   "cell_type": "code",
   "execution_count": null,
   "id": "22df4d35",
   "metadata": {},
   "outputs": [],
   "source": []
  }
 ],
 "metadata": {
  "kernelspec": {
   "display_name": "Python 3",
   "language": "python",
   "name": "python3"
  },
  "language_info": {
   "codemirror_mode": {
    "name": "ipython",
    "version": 3
   },
   "file_extension": ".py",
   "mimetype": "text/x-python",
   "name": "python",
   "nbconvert_exporter": "python",
   "pygments_lexer": "ipython3",
   "version": "3.9.5"
  }
 },
 "nbformat": 4,
 "nbformat_minor": 5
}
