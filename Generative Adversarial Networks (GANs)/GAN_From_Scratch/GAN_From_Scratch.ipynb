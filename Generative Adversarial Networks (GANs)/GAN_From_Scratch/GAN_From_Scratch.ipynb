{
 "cells": [
  {
   "cell_type": "code",
   "execution_count": 1,
   "id": "8fbe59ad",
   "metadata": {},
   "outputs": [],
   "source": [
    "#==============================================#\n",
    "#         Author: Kartikeya Sharma             #\n",
    "#==============================================#"
   ]
  },
  {
   "cell_type": "code",
   "execution_count": 2,
   "id": "698acb7d",
   "metadata": {},
   "outputs": [],
   "source": [
    "import os\n",
    "import torch\n",
    "import torch.nn as nn\n",
    "import torchvision\n",
    "import torchvision.datasets as datasets\n",
    "from torch.utils.data import DataLoader\n",
    "import torch.optim as optim\n",
    "from torchvision.transforms import transforms\n",
    "from torch.utils.tensorboard import SummaryWriter"
   ]
  },
  {
   "cell_type": "code",
   "execution_count": 3,
   "id": "c6f8a77f",
   "metadata": {},
   "outputs": [
    {
     "name": "stdout",
     "output_type": "stream",
     "text": [
      "Cuda Available:  True\n",
      "Number of Cuda Devices: 1\n",
      "Device Name: NVIDIA GeForce GTX 1650 Ti\n"
     ]
    }
   ],
   "source": [
    "print(\"Cuda Available: \", torch.cuda.is_available())\n",
    "print(\"Number of Cuda Devices:\", torch.cuda.device_count())\n",
    "print(\"Device Name:\", torch.cuda.get_device_name(0))"
   ]
  },
  {
   "cell_type": "code",
   "execution_count": 4,
   "id": "82efe1fd",
   "metadata": {},
   "outputs": [
    {
     "data": {
      "text/plain": [
       "'D:\\\\PyTorch Tutorials\\\\Implementations From Scratch\\\\GAN_From_Scratch'"
      ]
     },
     "execution_count": 4,
     "metadata": {},
     "output_type": "execute_result"
    }
   ],
   "source": [
    "os.getcwd()"
   ]
  },
  {
   "cell_type": "code",
   "execution_count": 21,
   "id": "8cfcedd3",
   "metadata": {},
   "outputs": [],
   "source": [
    "class Discriminator(nn.Module):\n",
    "    def __init__(self, img_size):\n",
    "        super().__init__()\n",
    "        self.discriminator = nn.Sequential(\n",
    "            nn.Linear(in_features = img_size, out_features=128),\n",
    "            nn.LeakyReLU(negative_slope = 0.2),\n",
    "            nn.Linear(128, 1),\n",
    "            nn.Sigmoid()\n",
    "        )\n",
    "        \n",
    "    def predict(self, x):\n",
    "        return self.discriminator(x)\n",
    "    \n",
    "# Normalize input from 0 to 1\n",
    "class Generator(nn.Module):\n",
    "    def __init__(self, noise_dim, img_dim):\n",
    "        super().__init__()\n",
    "        self.generator = nn.Sequential(\n",
    "            nn.Linear(noise_dim, 256),\n",
    "            nn.LeakyReLU(0.1),\n",
    "            nn.Linear(256, 256),\n",
    "            nn.LeakyReLU(0.1),\n",
    "            nn.Linear(256, img_dim),\n",
    "            nn.Sigmoid()\n",
    "        )\n",
    "    \n",
    "    def predict(self, x):\n",
    "        return self.generator(x)"
   ]
  },
  {
   "cell_type": "code",
   "execution_count": 22,
   "id": "5f773e43",
   "metadata": {},
   "outputs": [],
   "source": [
    "# Parameters and Hyperparameters\n",
    "device = torch.device(\"cuda\" if torch.cuda.is_available() else \"cpu\")\n",
    "lr = 3e-4\n",
    "noise_dim = 16\n",
    "img_dim = 28 * 28 * 1 # Which will be 784\n",
    "batch_size = 32\n",
    "epochs = 3\n",
    "\n",
    "disc = Discriminator(img_dim).to(device)\n",
    "gen = Generator(noise_dim, img_dim).to(device)\n",
    "\n",
    "# Important to include batch_size and nosie_dim as we will be feeding the network a batch of batch_size\n",
    "# noise vectors and generating batch_size number of images which will be compared evaluated by the discriminator.\n",
    "noise = torch.randn((batch_size, noise_dim)).to(device)"
   ]
  },
  {
   "cell_type": "code",
   "execution_count": 23,
   "id": "cd41d735",
   "metadata": {},
   "outputs": [],
   "source": [
    "trans = transforms.Compose(\n",
    "    [\n",
    "        transforms.ToTensor(),\n",
    "        transforms.Normalize(mean = (0.5,), std = (0.5,))\n",
    "    ]\n",
    ")\n",
    "\n",
    "dataset = datasets.MNIST(root = f\"dataset/\", transform = trans, download = True)\n",
    "loader = DataLoader(dataset, batch_size = batch_size, shuffle=True)\n",
    "opt_disc = optim.Adam(disc.parameters(), lr = lr)\n",
    "opt_gen = optim.Adam(gen.parameters(), lr = lr)\n",
    "\n",
    "loss = nn.BCELoss()\n",
    "writer_fake = SummaryWriter(f\"logs/fake\")\n",
    "writer_real = SummaryWriter(f\"logs/real\")"
   ]
  },
  {
   "cell_type": "code",
   "execution_count": 24,
   "id": "3d9be829",
   "metadata": {},
   "outputs": [
    {
     "name": "stdout",
     "output_type": "stream",
     "text": [
      "Epoch: 0\n",
      "Epoch [0/3] Batch 0/1875                       Loss D: 0.6248, loss G: 0.9511\n",
      "Epoch: 1\n",
      "Epoch [1/3] Batch 0/1875                       Loss D: 0.0024, loss G: 5.3318\n",
      "Epoch: 2\n",
      "Epoch [2/3] Batch 0/1875                       Loss D: 0.0004, loss G: 7.1757\n"
     ]
    }
   ],
   "source": [
    "step = 0\n",
    "\n",
    "for epoch in range(epochs):\n",
    "    print(\"Epoch:\", epoch)\n",
    "    for batch_idx, (real, _) in enumerate(loader):\n",
    "        real = real.view(-1, 784).to(device)\n",
    "        batch_size = real.shape[0]\n",
    "        ## Train Discriminator Loss Function: log(D(real)) + log(1 - D(G(noise)))\n",
    "        # This has to be maximized\n",
    "        noise = torch.randn(batch_size, noise_dim).to(device)\n",
    "        fake = gen.predict(noise)\n",
    "        disc_real = disc.predict(real).view(-1)\n",
    "        lossD_real = loss(disc_real, torch.ones_like(disc_real))\n",
    "        \n",
    "        disc_fake = disc.predict(fake).view(-1)\n",
    "        lossD_fake = loss(disc_fake, torch.zeros_like(disc_fake))\n",
    "        \n",
    "        lossD = (lossD_fake/2 + lossD_real/2)\n",
    "        disc.zero_grad()\n",
    "        lossD.backward(retain_graph = True)\n",
    "        opt_disc.step()\n",
    "        \n",
    "        ## Train Generator Loss Function: log(D(G(noise))) which was derived after seeing the problem of saturating gradients in the original loss function\n",
    "        # This loss function has to be maximized        \n",
    "        ## Original Loss Function (Not to be considered): log(1 - D(G(noise))) \n",
    "        # This loss had to be minimized\n",
    "        \n",
    "        output = disc.predict(fake).view(-1)\n",
    "        lossG = loss(output, torch.ones_like(output))\n",
    "        gen.zero_grad()\n",
    "        lossG.backward()\n",
    "        opt_gen.step()\n",
    "                \n",
    "        if batch_idx == 0:\n",
    "            print(f\"Epoch [{epoch}/{epochs}] Batch {batch_idx}/{len(loader)} \\\n",
    "                      Loss D: {lossD:.4f}, loss G: {lossG:.4f}\")\n",
    "\n",
    "            with torch.no_grad():\n",
    "                fake = gen.predict(noise).reshape(-1, 1, 28, 28)\n",
    "                data = real.reshape(-1, 1, 28, 28)\n",
    "                img_grid_fake = torchvision.utils.make_grid(fake, normalize=True)\n",
    "                img_grid_real = torchvision.utils.make_grid(data, normalize=True)\n",
    "\n",
    "                writer_fake.add_image(\n",
    "                    \"Mnist Fake Images\", img_grid_fake, global_step=step\n",
    "                )\n",
    "                writer_real.add_image(\n",
    "                    \"Mnist Real Images\", img_grid_real, global_step=step\n",
    "                )\n",
    "                step += 1"
   ]
  },
  {
   "cell_type": "code",
   "execution_count": null,
   "id": "f6c625c8",
   "metadata": {},
   "outputs": [],
   "source": []
  }
 ],
 "metadata": {
  "kernelspec": {
   "display_name": "Python [conda env:deeplearning_pytorch]",
   "language": "python",
   "name": "conda-env-deeplearning_pytorch-py"
  },
  "language_info": {
   "codemirror_mode": {
    "name": "ipython",
    "version": 3
   },
   "file_extension": ".py",
   "mimetype": "text/x-python",
   "name": "python",
   "nbconvert_exporter": "python",
   "pygments_lexer": "ipython3",
   "version": "3.10.4"
  }
 },
 "nbformat": 4,
 "nbformat_minor": 5
}
