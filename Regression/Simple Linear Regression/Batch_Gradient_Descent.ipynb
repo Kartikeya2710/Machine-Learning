{
 "cells": [
  {
   "cell_type": "code",
   "execution_count": 1,
   "id": "394d571b",
   "metadata": {},
   "outputs": [],
   "source": [
    "# importing the dependencies\n",
    "# NumPy for numerical mainpulation of the data and matplotlib for plotting the results of our model\n",
    "import numpy as np\n",
    "import matplotlib.pyplot as plt"
   ]
  },
  {
   "cell_type": "markdown",
   "id": "30c41789",
   "metadata": {},
   "source": [
    "#### Generating random data using NumPy"
   ]
  },
  {
   "cell_type": "code",
   "execution_count": 2,
   "id": "08caf404",
   "metadata": {},
   "outputs": [],
   "source": [
    "# Generating a dataset using np.random.multivariate_normal \n",
    "# It draws random samples from a multivariate normal distribution given its mean and covariance matrix\n",
    "mean = np.array([5.0, 6.0])\n",
    "cov = np.array([[1.0, 0.95], [0.95, 1.0]])\n",
    "data = np.random.multivariate_normal(mean, cov, 1000)\n",
    "# data.shape"
   ]
  },
  {
   "cell_type": "code",
   "execution_count": 3,
   "id": "0b11817c",
   "metadata": {},
   "outputs": [
    {
     "data": {
      "text/plain": [
       "<AxesSubplot:>"
      ]
     },
     "execution_count": 3,
     "metadata": {},
     "output_type": "execute_result"
    },
    {
     "data": {
      "image/png": "[encoded data removed]",
      "text/plain": [
       "<Figure size 432x288 with 1 Axes>"
      ]
     },
     "metadata": {
      "needs_background": "light"
     },
     "output_type": "display_data"
    }
   ],
   "source": [
    "# Plotting the data in a scatter plot using seaborn \n",
    "import seaborn as sns\n",
    "x_vals = data[:, 0]\n",
    "y_vals = data[:, 1]\n",
    "sns.scatterplot(x=x_vals, y=y_vals, color='r')"
   ]
  },
  {
   "cell_type": "code",
   "execution_count": 4,
   "id": "0494949e",
   "metadata": {},
   "outputs": [],
   "source": [
    "# We could have scaled/normalized our data but we won't since we only have one attribute column\n",
    "# from sklearn.preprocessing import StandardScaler\n",
    "# scalar = StandardScaler()\n",
    "# on checking it might improve the accuracy but for a univariate model, let's just keep the simplicity maintained"
   ]
  },
  {
   "cell_type": "markdown",
   "id": "974102a9",
   "metadata": {},
   "source": [
    "#### Splitting and Reshaping for future calculations"
   ]
  },
  {
   "cell_type": "code",
   "execution_count": 5,
   "id": "a83a1f19",
   "metadata": {},
   "outputs": [
    {
     "name": "stdout",
     "output_type": "stream",
     "text": [
      "New dimensions of X_train = (900, 2)\n",
      "New dimensions of X_test = (100, 2)\n"
     ]
    }
   ],
   "source": [
    "# Splitting the data into training and testing set without using sklearn.preprocessing\n",
    "# Already the values obtained from np.random.multivariate_normal are in a random order and thus\n",
    "# there is no need to shuffle the data again. So we will do a 9:1 split for the training and testing data\n",
    "X_train = x_vals[:int(len(x_vals)*0.9)]\n",
    "y_train = y_vals[:int(len(y_vals)*0.9)]\n",
    "X_test = x_vals[-int(len(x_vals)*0.1):]\n",
    "y_test = y_vals[-int(len(y_vals)*0.1):]\n",
    "\n",
    "# For using linear regression and specifically for calculating the hypothesis we will generate \n",
    "# theta(parameter values) starting from theta_0. So we must define a new column in the training data\n",
    "# say X_0 where all the values are initialized to 1 so now the training and testing data sets have an \n",
    "# additional column.\n",
    "X_train = np.hstack((np.ones(((len(X_train)), 1)), X_train.reshape(-1,1)))\n",
    "X_test = np.hstack( ((np.ones((len(X_test), 1))), X_test.reshape(-1,1)) )\n",
    "print(\"New dimensions of X_train =\", X_train.shape)\n",
    "print(\"New dimensions of X_test =\", X_test.shape)"
   ]
  },
  {
   "cell_type": "code",
   "execution_count": 6,
   "id": "1b89abc9",
   "metadata": {},
   "outputs": [],
   "source": [
    "# Mention about theta\n",
    "# theta will be declared locally for the first time in the gradient descent function and then\n",
    "# returned to a new variable in the global scope named theta_updated, same for cost"
   ]
  },
  {
   "cell_type": "markdown",
   "id": "b13a59cd",
   "metadata": {},
   "source": [
    "### **Batch Gradient Descent Methodology**"
   ]
  },
  {
   "cell_type": "code",
   "execution_count": 7,
   "id": "48423950",
   "metadata": {},
   "outputs": [],
   "source": [
    "def hypothesis(X_train, theta):\n",
    "    #            (m, 2) , (2, 1)\n",
    "    return np.dot(X_train, theta)"
   ]
  },
  {
   "cell_type": "code",
   "execution_count": 8,
   "id": "5226fabb",
   "metadata": {
    "tags": []
   },
   "outputs": [],
   "source": [
    "# in the case of batch gradient descent, we will calculate the mean cost for all the training samples\n",
    "# at a time for a given theta values, so we will find the mean\n",
    "def cost(X_train, y_train, theta):\n",
    "    m = len(X_train)\n",
    "    h = hypothesis(X_train, theta)\n",
    "    cost = (0.5/m)*( np.sum((h-y_train)**2)  )\n",
    "    return cost"
   ]
  },
  {
   "cell_type": "code",
   "execution_count": 9,
   "id": "6df18f44",
   "metadata": {},
   "outputs": [],
   "source": [
    "def batch_gradient_descent(X_train, y_train, learning_rate = 0.001, epoch=100):\n",
    "    m = len(X_train)\n",
    "    theta = np.zeros((X_train.shape[1], 1)) # [[0, 0]]\n",
    "    costs = [] # will store the new_cost values after every 10 iterations of optimization\n",
    "    epochs = [] # will store the iteration number\n",
    "    for i in range(epoch):\n",
    "        h = hypothesis(X_train, theta)\n",
    "        theta = theta - (learning_rate/m) * np.dot(X_train.transpose(), np.subtract(h,y_train.reshape(-1,1)))\n",
    "        new_cost = cost(X_train, y_train, theta)\n",
    "        if i%10==0:\n",
    "            epochs.append(i+1)\n",
    "            costs.append(new_cost)\n",
    "        \n",
    "    plt.plot(epochs, costs)    \n",
    "    return theta, new_cost"
   ]
  },
  {
   "cell_type": "code",
   "execution_count": 10,
   "id": "03fce445",
   "metadata": {},
   "outputs": [
    {
     "data": {
      "image/png": "[encoded data removed]",
      "text/plain": [
       "<Figure size 432x288 with 1 Axes>"
      ]
     },
     "metadata": {
      "needs_background": "light"
     },
     "output_type": "display_data"
    }
   ],
   "source": [
    "theta_updated, cost_updated = batch_gradient_descent(X_train, y_train, 0.073, 1000)"
   ]
  },
  {
   "cell_type": "code",
   "execution_count": 11,
   "id": "ec359d9d",
   "metadata": {},
   "outputs": [
    {
     "name": "stdout",
     "output_type": "stream",
     "text": [
      "Theta_0 = [1.18458258]\n",
      "Theta_1 = [0.96257214]\n",
      "The cost incurred by the model 901.3298665506072\n"
     ]
    }
   ],
   "source": [
    "print(\"Theta_0 =\", theta_updated[0])\n",
    "print(\"Theta_1 =\", theta_updated[1])\n",
    "print(\"The cost incurred by the model\", cost_updated)"
   ]
  },
  {
   "cell_type": "markdown",
   "id": "9d81ea76",
   "metadata": {},
   "source": [
    "#### Performance on the training data"
   ]
  },
  {
   "cell_type": "code",
   "execution_count": 12,
   "id": "78ba3ee6",
   "metadata": {},
   "outputs": [
    {
     "data": {
      "text/plain": [
       "[<matplotlib.lines.Line2D at 0x19a85042b80>]"
      ]
     },
     "execution_count": 12,
     "metadata": {},
     "output_type": "execute_result"
    },
    {
     "data": {
      "image/png": "[encoded data removed]",
      "text/plain": [
       "<Figure size 432x288 with 1 Axes>"
      ]
     },
     "metadata": {
      "needs_background": "light"
     },
     "output_type": "display_data"
    }
   ],
   "source": [
    "plt.scatter(X_train[:, 1], y_train)\n",
    "plt.plot(X_train[:,1], hypothesis(X_train, theta_updated).flatten())"
   ]
  },
  {
   "cell_type": "markdown",
   "id": "4ccd55d1",
   "metadata": {},
   "source": [
    "#### Performance on the testing data"
   ]
  },
  {
   "cell_type": "code",
   "execution_count": 13,
   "id": "fed7e98a",
   "metadata": {},
   "outputs": [
    {
     "data": {
      "text/plain": [
       "[<matplotlib.lines.Line2D at 0x19a850c30a0>]"
      ]
     },
     "execution_count": 13,
     "metadata": {},
     "output_type": "execute_result"
    },
    {
     "data": {
      "image/png": "[encoded data removed]",
      "text/plain": [
       "<Figure size 432x288 with 1 Axes>"
      ]
     },
     "metadata": {
      "needs_background": "light"
     },
     "output_type": "display_data"
    }
   ],
   "source": [
    "plt.scatter(X_test[:, 1], y_test)\n",
    "plt.plot(X_test[:, 1], hypothesis(X_test, theta_updated))"
   ]
  },
  {
   "cell_type": "code",
   "execution_count": 14,
   "id": "3ad31bc4",
   "metadata": {},
   "outputs": [
    {
     "name": "stdout",
     "output_type": "stream",
     "text": [
      "The cost on the testing data is = 126.80645952678064\n"
     ]
    }
   ],
   "source": [
    "print(\"The cost on the testing data is =\", cost(X_test, y_test, theta_updated))"
   ]
  }
 ],
 "metadata": {
  "kernelspec": {
   "display_name": "Python 3",
   "language": "python",
   "name": "python3"
  },
  "language_info": {
   "codemirror_mode": {
    "name": "ipython",
    "version": 3
   },
   "file_extension": ".py",
   "mimetype": "text/x-python",
   "name": "python",
   "nbconvert_exporter": "python",
   "pygments_lexer": "ipython3",
   "version": "3.9.5"
  }
 },
 "nbformat": 4,
 "nbformat_minor": 5
}
