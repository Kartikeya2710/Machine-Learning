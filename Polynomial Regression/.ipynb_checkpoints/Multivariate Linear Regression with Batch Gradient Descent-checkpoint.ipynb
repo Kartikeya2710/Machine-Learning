{
 "cells": [
  {
   "cell_type": "code",
   "execution_count": 1,
   "id": "b6ae523f",
   "metadata": {},
   "outputs": [],
   "source": [
    "import numpy as np\n",
    "import matplotlib.pyplot as plt"
   ]
  },
  {
   "cell_type": "markdown",
   "id": "13f35155",
   "metadata": {},
   "source": [
    "### **Generating multi-dimensional data**"
   ]
  },
  {
   "cell_type": "code",
   "execution_count": 2,
   "id": "669a42b3",
   "metadata": {},
   "outputs": [
    {
     "data": {
      "text/plain": [
       "array([[1.        , 0.57704296, 0.52479884, 0.09107417, 0.19339995],\n",
       "       [0.57704296, 1.        , 0.39602426, 0.29952027, 0.26612354],\n",
       "       [0.52479884, 0.39602426, 1.        , 0.4424911 , 0.30054244],\n",
       "       [0.09107417, 0.29952027, 0.4424911 , 1.        , 0.63226814],\n",
       "       [0.19339995, 0.26612354, 0.30054244, 0.63226814, 1.        ]])"
      ]
     },
     "execution_count": 2,
     "metadata": {},
     "output_type": "execute_result"
    }
   ],
   "source": [
    "# generating a random positive semi-definite symmetric covariance matrix and mean matrix \n",
    "mean = [5.0, 8.0, 15.0, 20.0, 25.0]\n",
    "cov = np.random.rand(len(mean), len(mean))\n",
    "cov = (cov + cov.T)/2\n",
    "for i in range(len(mean)):\n",
    "    cov[i][i] = 1.0\n",
    "cov"
   ]
  },
  {
   "cell_type": "code",
   "execution_count": 3,
   "id": "62693b86",
   "metadata": {},
   "outputs": [
    {
     "data": {
      "text/plain": [
       "(1000, 5)"
      ]
     },
     "execution_count": 3,
     "metadata": {},
     "output_type": "execute_result"
    }
   ],
   "source": [
    "data = np.random.multivariate_normal(mean, cov, size=1000)\n",
    "data.shape"
   ]
  },
  {
   "cell_type": "code",
   "execution_count": 4,
   "id": "ac3234af",
   "metadata": {},
   "outputs": [
    {
     "data": {
      "text/plain": [
       "array([[ 7.2288629 ,  8.15709989, 15.71495606, 19.83709484, 25.93269446],\n",
       "       [ 7.13139855,  7.71716301, 16.20344573, 21.41707126, 25.46320109],\n",
       "       [ 4.56696677,  7.10909036, 16.59453343, 20.40522082, 26.60100783],\n",
       "       ...,\n",
       "       [ 4.71849645,  9.30202821, 14.07949673, 19.85284523, 24.6628495 ],\n",
       "       [ 5.21216953,  8.58690359, 13.70771171, 18.82021854, 23.46944963],\n",
       "       [ 3.23817671,  7.24190531, 13.52285814, 20.4509921 , 23.51532771]])"
      ]
     },
     "execution_count": 4,
     "metadata": {},
     "output_type": "execute_result"
    }
   ],
   "source": [
    "data_copy = data.copy()\n",
    "data_copy"
   ]
  },
  {
   "cell_type": "markdown",
   "id": "58c1338f",
   "metadata": {},
   "source": [
    "### **Splitting and Reshaping Data for preprocessing**"
   ]
  },
  {
   "cell_type": "code",
   "execution_count": 5,
   "id": "916d5300",
   "metadata": {},
   "outputs": [],
   "source": [
    "x_vals = data_copy[:, :-1]\n",
    "y_vals = data_copy[:, -1]"
   ]
  },
  {
   "cell_type": "code",
   "execution_count": 6,
   "id": "e3b8dc23",
   "metadata": {},
   "outputs": [
    {
     "name": "stdout",
     "output_type": "stream",
     "text": [
      "X_train.shape = (900, 4)\n",
      "X_test = (100, 4)\n",
      "y_train.shape = (900,)\n",
      "y_test.shape = (100,)\n",
      "X_train.shape after adding the ones = (900, 5)\n",
      "X_test after adding the ones = (100, 5)\n"
     ]
    }
   ],
   "source": [
    "X_train = x_vals[:int(-0.1*len(x_vals)), :]\n",
    "X_test = x_vals[int(-0.1*len(x_vals)):, :]\n",
    "print(\"X_train.shape =\", X_train.shape)\n",
    "print(\"X_test =\", X_test.shape)\n",
    "y_train = y_vals[:int(-0.1*len(y_vals))]\n",
    "y_test = y_vals[int(-0.1*len(y_vals)):]\n",
    "print(\"y_train.shape =\", y_train.shape)\n",
    "print(\"y_test.shape =\", y_test.shape)\n",
    "\n",
    "# adding a new column of ones in the X_train and X_test\n",
    "X_train = np.hstack((np.ones( (len(X_train), 1) ), X_train))\n",
    "X_test = np.hstack((np.ones((len(X_test), 1)), X_test))\n",
    "print(\"X_train.shape after adding the ones =\", X_train.shape)\n",
    "print(\"X_test after adding the ones =\", X_test.shape)"
   ]
  },
  {
   "cell_type": "markdown",
   "id": "67322c10",
   "metadata": {},
   "source": [
    "### **Scaling the Data for increasing the efficiency of our model**"
   ]
  },
  {
   "cell_type": "code",
   "execution_count": 7,
   "id": "4cd408b2",
   "metadata": {},
   "outputs": [],
   "source": [
    "# Scaling the data\n",
    "from sklearn.preprocessing import MinMaxScaler\n",
    "scalar = MinMaxScaler()\n",
    "X_train = scalar.fit_transform(X_train)+1\n",
    "X_test =  scalar.fit_transform(X_test)+1\n",
    "y_test = scalar.fit_transform(y_test.reshape(-1, 1))+1\n",
    "y_train = scalar.fit_transform(y_train.reshape(-1, 1))+1"
   ]
  },
  {
   "cell_type": "markdown",
   "id": "e4bcbb95",
   "metadata": {},
   "source": [
    "### **Making necessary functions**"
   ]
  },
  {
   "cell_type": "code",
   "execution_count": 8,
   "id": "6d9dfcf7",
   "metadata": {},
   "outputs": [],
   "source": [
    "def hypothesis(X, theta):\n",
    "    #            (m, 4) , (4, 1)\n",
    "    return np.dot(X, theta)"
   ]
  },
  {
   "cell_type": "code",
   "execution_count": 9,
   "id": "f63964d0",
   "metadata": {},
   "outputs": [],
   "source": [
    "def cost(X, y, theta):\n",
    "    m = X.shape[0]\n",
    "    h = hypothesis(X, theta)\n",
    "    return (0.5/m) * np.sum( (h-y)**2 )"
   ]
  },
  {
   "cell_type": "markdown",
   "id": "e9d6a140",
   "metadata": {},
   "source": [
    "#### **Unvectorized Batch Gradient Descent on multi-variate data**"
   ]
  },
  {
   "cell_type": "code",
   "execution_count": 10,
   "id": "2aca0536",
   "metadata": {
    "tags": []
   },
   "outputs": [],
   "source": [
    "def batch_gradient_descent(X, y, learning_rate = 0.001, epochs=500):\n",
    "    m = X.shape[0]\n",
    "    theta = np.ones((X.shape[1], 1))\n",
    "    h = hypothesis(X, theta)\n",
    "    temp = theta\n",
    "    costs = []\n",
    "    iters = []\n",
    "    for i in range(epochs):\n",
    "        temp[0] = theta[0] - ((learning_rate)/m) * np.sum(h - y)\n",
    "        for j in range(1, X.shape[1]):\n",
    "            temp[j] = theta[j] - ((learning_rate)/m) * np.sum(np.dot(np.transpose(X[:, j]), (h - y)))\n",
    "        theta = temp\n",
    "        h = hypothesis(X, theta)\n",
    "        new_cost = cost(X, y, theta)\n",
    "        if i%10 == 0:\n",
    "            costs.append(new_cost)\n",
    "            iters.append(i+1)\n",
    "    plt.plot(iters, costs)\n",
    "    return new_cost, theta"
   ]
  },
  {
   "cell_type": "markdown",
   "id": "780b64b5",
   "metadata": {},
   "source": [
    "#### **Vecotrized Batch Gradient Descent on multi-variate data**"
   ]
  },
  {
   "cell_type": "code",
   "execution_count": 11,
   "id": "3018e8a1",
   "metadata": {},
   "outputs": [],
   "source": [
    "def batch_gradient_descent_vectorized(X, y, learning_rate = 0.001, epochs=500):\n",
    "    m = X.shape[0]\n",
    "    theta = np.ones((X.shape[1], 1))\n",
    "    h = hypothesis(X, theta)\n",
    "    costs = []\n",
    "    iters = []\n",
    "    for i in range(epochs):\n",
    "        gradient = np.dot(X.T, (h-y))\n",
    "        theta = theta - ((learning_rate)/m) * gradient\n",
    "        h = hypothesis(X, theta)\n",
    "        new_cost = cost(X, y, theta)\n",
    "        if i%10 == 0:\n",
    "            costs.append(new_cost)\n",
    "            iters.append(i+1)\n",
    "    plt.plot(iters, costs)\n",
    "    return new_cost, theta"
   ]
  },
  {
   "cell_type": "markdown",
   "id": "96f7c7d3",
   "metadata": {},
   "source": [
    "#### The vectorized implementation is clearly faster than the unvectorized one"
   ]
  },
  {
   "cell_type": "code",
   "execution_count": 12,
   "id": "ac690d7d",
   "metadata": {
    "tags": []
   },
   "outputs": [
    {
     "name": "stdout",
     "output_type": "stream",
     "text": [
      "16.2 ms ± 79.6 µs per loop (mean ± std. dev. of 7 runs, 100 loops each)\n"
     ]
    },
    {
     "data": {
      "image/png": "[encoded data removed]",
      "text/plain": [
       "<Figure size 432x288 with 1 Axes>"
      ]
     },
     "metadata": {
      "needs_background": "light"
     },
     "output_type": "display_data"
    }
   ],
   "source": [
    "%timeit cost_updated_1, theta_updated_1 = batch_gradient_descent(X_train, y_train, 0.18, 200)"
   ]
  },
  {
   "cell_type": "code",
   "execution_count": 13,
   "id": "307db966",
   "metadata": {},
   "outputs": [
    {
     "name": "stdout",
     "output_type": "stream",
     "text": [
      "5.82 ms ± 60.6 µs per loop (mean ± std. dev. of 7 runs, 100 loops each)\n"
     ]
    },
    {
     "data": {
      "image/png": "[encoded data removed]",
      "text/plain": [
       "<Figure size 432x288 with 1 Axes>"
      ]
     },
     "metadata": {
      "needs_background": "light"
     },
     "output_type": "display_data"
    }
   ],
   "source": [
    "%timeit cost_updated_2, theta_updated_2 = batch_gradient_descent_vectorized(X_train, y_train, 0.18, 200)"
   ]
  },
  {
   "cell_type": "code",
   "execution_count": 14,
   "id": "d6863375",
   "metadata": {},
   "outputs": [
    {
     "data": {
      "image/png": "[encoded data removed]",
      "text/plain": [
       "<Figure size 432x288 with 1 Axes>"
      ]
     },
     "metadata": {
      "needs_background": "light"
     },
     "output_type": "display_data"
    }
   ],
   "source": [
    "cost_updated_1, theta_updated_1 = batch_gradient_descent(X_train, y_train, 0.18, 200)"
   ]
  },
  {
   "cell_type": "code",
   "execution_count": 15,
   "id": "ec87d45c",
   "metadata": {},
   "outputs": [
    {
     "data": {
      "image/png": "[encoded data removed]",
      "text/plain": [
       "<Figure size 432x288 with 1 Axes>"
      ]
     },
     "metadata": {
      "needs_background": "light"
     },
     "output_type": "display_data"
    }
   ],
   "source": [
    "cost_updated_2, theta_updated_2 = batch_gradient_descent_vectorized(X_train, y_train, 0.18, 200)"
   ]
  },
  {
   "cell_type": "markdown",
   "id": "c2e1b86a",
   "metadata": {},
   "source": [
    "#### Final values of the cost function and theta"
   ]
  },
  {
   "cell_type": "code",
   "execution_count": 16,
   "id": "13d87712",
   "metadata": {},
   "outputs": [
    {
     "name": "stdout",
     "output_type": "stream",
     "text": [
      "cost_updated_1 = 0.00701058238307041\n",
      "cost_updated_2 = 0.0070105823830704135\n",
      "theta_updated_1\n",
      " [[0.46799574]\n",
      " [0.0760244 ]\n",
      " [0.12487554]\n",
      " [0.10034897]\n",
      " [0.40937886]]\n",
      "theta_updated_2\n",
      " [[0.46799574]\n",
      " [0.0760244 ]\n",
      " [0.12487554]\n",
      " [0.10034897]\n",
      " [0.40937886]]\n"
     ]
    }
   ],
   "source": [
    "print(\"cost_updated_1 =\", cost_updated_1)\n",
    "print(\"cost_updated_2 =\", cost_updated_2)\n",
    "print(\"theta_updated_1\\n\", theta_updated_1)\n",
    "print(\"theta_updated_2\\n\", theta_updated_2)"
   ]
  },
  {
   "cell_type": "markdown",
   "id": "1ce5460e",
   "metadata": {},
   "source": [
    "#### Cost function value for the testing data set"
   ]
  },
  {
   "cell_type": "code",
   "execution_count": 17,
   "id": "5d09e3f0",
   "metadata": {},
   "outputs": [],
   "source": [
    "cost_test = cost(X_test, y_test, theta_updated_2)"
   ]
  },
  {
   "cell_type": "code",
   "execution_count": 18,
   "id": "4d4432c5",
   "metadata": {},
   "outputs": [
    {
     "data": {
      "text/plain": [
       "0.01643354806152701"
      ]
     },
     "execution_count": 18,
     "metadata": {},
     "output_type": "execute_result"
    }
   ],
   "source": [
    "cost_test"
   ]
  },
  {
   "cell_type": "code",
   "execution_count": 19,
   "id": "71ca7a6f",
   "metadata": {},
   "outputs": [],
   "source": [
    "# plt.plot(X_test[:, 1:], hypothesis(X_test, theta_updated_2))"
   ]
  },
  {
   "cell_type": "code",
   "execution_count": null,
   "id": "11bddc90",
   "metadata": {},
   "outputs": [],
   "source": []
  }
 ],
 "metadata": {
  "kernelspec": {
   "display_name": "Python 3",
   "language": "python",
   "name": "python3"
  },
  "language_info": {
   "codemirror_mode": {
    "name": "ipython",
    "version": 3
   },
   "file_extension": ".py",
   "mimetype": "text/x-python",
   "name": "python",
   "nbconvert_exporter": "python",
   "pygments_lexer": "ipython3",
   "version": "3.9.5"
  }
 },
 "nbformat": 4,
 "nbformat_minor": 5
}
